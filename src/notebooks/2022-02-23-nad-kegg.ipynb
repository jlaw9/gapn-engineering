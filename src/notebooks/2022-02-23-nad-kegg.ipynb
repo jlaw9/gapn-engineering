{
 "cells": [
  {
   "cell_type": "code",
   "execution_count": 1,
   "id": "sophisticated-jacksonville",
   "metadata": {},
   "outputs": [],
   "source": [
    "import os\n",
    "# try to control the number of threads used on the eagle dav nodes\n",
    "os.environ[\"OMP_NUM_THREADS\"] = \"4\"\n",
    "os.environ[\"MKL_NUM_THREADS\"] = \"4\"\n",
    "os.environ[\"OPENBLAS_NUM_THREADS\"] = \"4\"\n",
    "os.environ[\"BLIS_NUM_THREADS\"] = \"4\"\n",
    "\n",
    "from sklearn.linear_model import LogisticRegression\n",
    "from sklearn.model_selection import train_test_split"
   ]
  },
  {
   "cell_type": "code",
   "execution_count": 2,
   "id": "incoming-rendering",
   "metadata": {},
   "outputs": [],
   "source": [
    "import pandas as pd\n",
    "import numpy as np\n",
    "import gzip\n",
    "from tqdm.notebook import tqdm\n",
    "\n",
    "import matplotlib.pyplot as plt\n",
    "import seaborn as sns"
   ]
  },
  {
   "cell_type": "code",
   "execution_count": 3,
   "id": "pressing-highland",
   "metadata": {},
   "outputs": [],
   "source": [
    "import torch"
   ]
  },
  {
   "cell_type": "code",
   "execution_count": 4,
   "id": "mental-favor",
   "metadata": {},
   "outputs": [
    {
     "name": "stdout",
     "output_type": "stream",
     "text": [
      "0    A0A6J0JUL3\n",
      "1    A0A5Q0QDC4\n",
      "2        B5XZX7\n",
      "3    A0A6G7YB72\n",
      "4        D0A1U1\n",
      "Name: 0, dtype: object\n"
     ]
    }
   ],
   "source": [
    "nad_prots = pd.read_csv('/projects/bpms/jlaw/inputs/nad_nadp/kegg_nad_uniprot.txt', header=None).squeeze()\n",
    "print(nad_prots.head())"
   ]
  },
  {
   "cell_type": "code",
   "execution_count": 5,
   "id": "insured-eight",
   "metadata": {},
   "outputs": [
    {
     "name": "stdout",
     "output_type": "stream",
     "text": [
      "0    A0A1D8P7Q7\n",
      "1    A0A7L5Y0F6\n",
      "2    A0A6J0JUL3\n",
      "3        E0RUK3\n",
      "4        C5D5T3\n",
      "Name: 0, dtype: object\n"
     ]
    }
   ],
   "source": [
    "nadp_prots = pd.read_csv('/projects/bpms/jlaw/inputs/nad_nadp/kegg_nadp_uniprot.txt', header=None).squeeze()\n",
    "print(nadp_prots.head())"
   ]
  },
  {
   "cell_type": "code",
   "execution_count": 6,
   "id": "pressed-remains",
   "metadata": {},
   "outputs": [],
   "source": [
    "prot_set = set(nad_prots) | set(nadp_prots)"
   ]
  },
  {
   "cell_type": "code",
   "execution_count": 7,
   "id": "destroyed-turtle",
   "metadata": {},
   "outputs": [
    {
     "name": "stdout",
     "output_type": "stream",
     "text": [
      "566753\n"
     ]
    }
   ],
   "source": [
    "print(len(prot_set))"
   ]
  },
  {
   "cell_type": "code",
   "execution_count": 8,
   "id": "weird-religion",
   "metadata": {},
   "outputs": [],
   "source": [
    "# copied from here: https://stackoverflow.com/a/29805905/7483950\n",
    "def read_fasta(fp, gzipped=False):\n",
    "        name, seq = None, []\n",
    "        for line in fp:\n",
    "            if gzipped:\n",
    "                line = line.decode()\n",
    "            line = line.rstrip()\n",
    "            if line.startswith(\">\"):\n",
    "                if name: yield (name, ''.join(seq))\n",
    "                name, seq = line[1:], []\n",
    "            else:\n",
    "                seq.append(line)\n",
    "        if name: yield (name, ''.join(seq))"
   ]
  },
  {
   "cell_type": "code",
   "execution_count": 8,
   "id": "double-pickup",
   "metadata": {},
   "outputs": [
    {
     "name": "stdout",
     "output_type": "stream",
     "text": [
      "reading /projects/deepgreen/jlaw/inputs/uniprot/2021-05/2021-05-25-uniprot_swissprot_trembl_shortid.fasta.gz\n"
     ]
    },
    {
     "data": {
      "application/vnd.jupyter.widget-view+json": {
       "model_id": "9dec0f6726794c5fabc2727b33a6329d",
       "version_major": 2,
       "version_minor": 0
      },
      "text/plain": [
       "  0%|          | 0/214406399 [00:00<?, ?it/s]"
      ]
     },
     "metadata": {},
     "output_type": "display_data"
    },
    {
     "name": "stdout",
     "output_type": "stream",
     "text": [
      "\t566571 read\n"
     ]
    }
   ],
   "source": [
    "fasta_file = \"/projects/deepgreen/jlaw/inputs/uniprot/2021-05/2021-05-25-uniprot_swissprot_trembl_shortid.fasta.gz\"\n",
    "print(f\"reading {fasta_file}\")\n",
    "sequences = {}\n",
    "# prot_set = set(prots)\n",
    "with gzip.open(fasta_file, 'r') as f:\n",
    "    for name, seq in tqdm(read_fasta(f, gzipped=True), total=214406399):\n",
    "        # just read in the proteins that have GO annotations\n",
    "        if name not in prot_set:\n",
    "            continue\n",
    "        # make sure there aren't these strange AAs\n",
    "        seq = seq.replace('B', 'D').replace('Z', 'E').replace('J', 'L')\n",
    "#         print(name, seq)\n",
    "        sequences[name] = seq\n",
    "\n",
    "print(f\"\\t{len(sequences)} read\")"
   ]
  },
  {
   "cell_type": "code",
   "execution_count": 11,
   "id": "catholic-train",
   "metadata": {},
   "outputs": [],
   "source": [
    "# write these sequences to a separate file\n",
    "with open(\"/projects/bpms/jlaw/inputs/nad_nadp/kegg_uniprot_seqs.csv\", 'w') as out:\n",
    "    out.write(''.join([f\"{s_id},{seq}\\n\" for s_id, seq in sequences.items()]))"
   ]
  },
  {
   "cell_type": "code",
   "execution_count": 9,
   "id": "adopted-punch",
   "metadata": {},
   "outputs": [
    {
     "name": "stderr",
     "output_type": "stream",
     "text": [
      "Using cache found in /scratch/jlaw/torch/facebookresearch_esm_main\n"
     ]
    }
   ],
   "source": [
    "# model_name = \"esm1_t6_43M_UR50S\"\n",
    "model_name = \"esm1b_t33_650M_UR50S\"\n",
    "torch.hub.set_dir('/scratch/jlaw/torch')\n",
    "# torch.hub.set_dir('/gpfs/alpine/scratch/jlaw/bie108/torch/hub')\n",
    "model, alphabet = torch.hub.load(\"facebookresearch/esm:main\", model_name)\n",
    "device = 'cuda:0' if torch.cuda.is_available() else 'cpu'\n",
    "model = model.eval()\n",
    "model = model.to(device)\n",
    "batch_converter = alphabet.get_batch_converter()\n",
    "# get the representations from the last layer \n",
    "repr_layer = model.num_layers"
   ]
  },
  {
   "cell_type": "code",
   "execution_count": 10,
   "id": "corresponding-abortion",
   "metadata": {},
   "outputs": [],
   "source": [
    "from torch.cuda.amp import GradScaler\n",
    "from torch.cuda.amp import autocast"
   ]
  },
  {
   "cell_type": "code",
   "execution_count": 11,
   "id": "framed-malta",
   "metadata": {},
   "outputs": [
    {
     "name": "stdout",
     "output_type": "stream",
     "text": [
      "398091 NAD seqs, 309535 NADP seqs, 566753 combined\n"
     ]
    }
   ],
   "source": [
    "print(f\"{len(nad_prots)} NAD seqs, {len(nadp_prots)} NADP seqs, {len(prot_set)} combined\")"
   ]
  },
  {
   "cell_type": "code",
   "execution_count": 12,
   "id": "mechanical-expression",
   "metadata": {},
   "outputs": [],
   "source": [
    "# generate the embeddings for these sequences\n",
    "def get_seq_embeddings(model, seqs, repr_layer=33, batch_size=16):\n",
    "    \"\"\"\n",
    "    Generate an embedding for every sequence using the specified model\n",
    "    \"\"\"\n",
    "    scaler = GradScaler()\n",
    "    batch_labels, batch_strs, batch_tokens = batch_converter(list(zip(np.arange(len(seqs)), seqs)))\n",
    "\n",
    "    batch_dataloader = torch.utils.data.DataLoader(batch_tokens, \n",
    "                                                   batch_size=batch_size, \n",
    "                                                   pin_memory=True,\n",
    "                                                   num_workers=8\n",
    "                                                  )\n",
    "\n",
    "    representations = []\n",
    "    with torch.no_grad():\n",
    "        for batch_idx, batch in tqdm(enumerate(batch_dataloader), total=len(batch_dataloader)):\n",
    "            out = model(batch.to(device), repr_layers=[repr_layer])  # because this is the 33-layer transformer\n",
    "            out = out['representations'][repr_layer].detach().to('cpu').numpy()\n",
    "\n",
    "            for i in range(len(batch)):\n",
    "                representations += [out[i, 1:len(batch[i]) + 1].mean(0).astype(np.float16)]\n",
    "    representations = np.vstack(representations)\n",
    "    return representations"
   ]
  },
  {
   "cell_type": "code",
   "execution_count": 40,
   "id": "destroyed-bonus",
   "metadata": {},
   "outputs": [
    {
     "data": {
      "application/vnd.jupyter.widget-view+json": {
       "model_id": "947692a845044e05bbb384355cdbfc17",
       "version_major": 2,
       "version_minor": 0
      },
      "text/plain": [
       "  0%|          | 0/267 [00:00<?, ?it/s]"
      ]
     },
     "metadata": {},
     "output_type": "display_data"
    }
   ],
   "source": [
    "seq_labels = sorted(prot_set)\n",
    "seqs = [sequences[l] for l in seq_labels]\n",
    "seqs = [seq[:1022] if len(seq) > 1022 else seq for seq in seqs]\n",
    "with autocast():\n",
    "    representations = get_seq_embeddings(model, seqs, repr_layer=repr_layer, batch_size=64)"
   ]
  },
  {
   "cell_type": "code",
   "execution_count": 13,
   "id": "beautiful-lottery",
   "metadata": {},
   "outputs": [
    {
     "data": {
      "text/plain": [
       "(566571, 1280)"
      ]
     },
     "execution_count": 13,
     "metadata": {},
     "output_type": "execute_result"
    }
   ],
   "source": [
    "representations = np.load(\"/projects/bpms/jlaw/inputs/nad_nadp/kegg_uniprot_seq_embeddings.npz\")\n",
    "representations = representations['arr_0']\n",
    "representations.shape"
   ]
  },
  {
   "cell_type": "code",
   "execution_count": 14,
   "id": "sixth-queue",
   "metadata": {},
   "outputs": [
    {
     "data": {
      "text/html": [
       "<div>\n",
       "<style scoped>\n",
       "    .dataframe tbody tr th:only-of-type {\n",
       "        vertical-align: middle;\n",
       "    }\n",
       "\n",
       "    .dataframe tbody tr th {\n",
       "        vertical-align: top;\n",
       "    }\n",
       "\n",
       "    .dataframe thead th {\n",
       "        text-align: right;\n",
       "    }\n",
       "</style>\n",
       "<table border=\"1\" class=\"dataframe\">\n",
       "  <thead>\n",
       "    <tr style=\"text-align: right;\">\n",
       "      <th></th>\n",
       "      <th>seq_id</th>\n",
       "      <th>seq</th>\n",
       "    </tr>\n",
       "  </thead>\n",
       "  <tbody>\n",
       "    <tr>\n",
       "      <th>0</th>\n",
       "      <td>Q5FTU6</td>\n",
       "      <td>MSSKPDILTIDPLVPVMKERLEKSFTLHPYTSLENLKNIAPAIRGI...</td>\n",
       "    </tr>\n",
       "    <tr>\n",
       "      <th>1</th>\n",
       "      <td>C8WMP0</td>\n",
       "      <td>MGIYVITGATSGIGAKTAEILRERGHEVVNIDLNGGDINANLATKE...</td>\n",
       "    </tr>\n",
       "  </tbody>\n",
       "</table>\n",
       "</div>"
      ],
      "text/plain": [
       "   seq_id                                                seq\n",
       "0  Q5FTU6  MSSKPDILTIDPLVPVMKERLEKSFTLHPYTSLENLKNIAPAIRGI...\n",
       "1  C8WMP0  MGIYVITGATSGIGAKTAEILRERGHEVVNIDLNGGDINANLATKE..."
      ]
     },
     "execution_count": 14,
     "metadata": {},
     "output_type": "execute_result"
    }
   ],
   "source": [
    "df = pd.read_csv(\"/projects/bpms/jlaw/inputs/nad_nadp/kegg_uniprot_seqs.csv.gz\", \n",
    "                 header=None,\n",
    "                 names=['seq_id', 'seq']\n",
    "                )\n",
    "df.head(2)"
   ]
  },
  {
   "cell_type": "code",
   "execution_count": 15,
   "id": "industrial-reset",
   "metadata": {},
   "outputs": [],
   "source": [
    "nad_prots = set(nad_prots)\n",
    "nadp_prots = set(nadp_prots)"
   ]
  },
  {
   "cell_type": "code",
   "execution_count": 16,
   "id": "external-holly",
   "metadata": {},
   "outputs": [],
   "source": [
    "X = representations\n",
    "y = [1 if s in nad_prots else 0 for s in df['seq_id']]"
   ]
  },
  {
   "cell_type": "code",
   "execution_count": 16,
   "id": "swedish-train",
   "metadata": {},
   "outputs": [
    {
     "data": {
      "text/plain": [
       "397950"
      ]
     },
     "execution_count": 16,
     "metadata": {},
     "output_type": "execute_result"
    }
   ],
   "source": [
    "sum(y)"
   ]
  },
  {
   "cell_type": "code",
   "execution_count": 17,
   "id": "decimal-envelope",
   "metadata": {},
   "outputs": [
    {
     "data": {
      "text/plain": [
       "168621"
      ]
     },
     "execution_count": 17,
     "metadata": {},
     "output_type": "execute_result"
    }
   ],
   "source": [
    "len(y) - sum(y)"
   ]
  },
  {
   "cell_type": "code",
   "execution_count": 32,
   "id": "weighted-optics",
   "metadata": {},
   "outputs": [
    {
     "name": "stderr",
     "output_type": "stream",
     "text": [
      "/home/jlaw/.local/lib/python3.7/site-packages/sklearn/linear_model/_logistic.py:818: ConvergenceWarning: lbfgs failed to converge (status=1):\n",
      "STOP: TOTAL NO. of ITERATIONS REACHED LIMIT.\n",
      "\n",
      "Increase the number of iterations (max_iter) or scale the data as shown in:\n",
      "    https://scikit-learn.org/stable/modules/preprocessing.html\n",
      "Please also refer to the documentation for alternative solver options:\n",
      "    https://scikit-learn.org/stable/modules/linear_model.html#logistic-regression\n",
      "  extra_warning_msg=_LOGISTIC_SOLVER_CONVERGENCE_MSG,\n",
      "/home/jlaw/.local/lib/python3.7/site-packages/sklearn/utils/deprecation.py:87: FutureWarning: Function plot_precision_recall_curve is deprecated; Function `plot_precision_recall_curve` is deprecated in 1.0 and will be removed in 1.2. Use one of the class methods: PrecisionRecallDisplay.from_predictions or PrecisionRecallDisplay.from_estimator.\n",
      "  warnings.warn(msg, category=FutureWarning)\n"
     ]
    },
    {
     "data": {
      "text/plain": [
       "<sklearn.metrics._plot.precision_recall_curve.PrecisionRecallDisplay at 0x7fdea075c550>"
      ]
     },
     "execution_count": 32,
     "metadata": {},
     "output_type": "execute_result"
    },
    {
     "data": {
      "image/png": "[encoded data removed]",
      "text/plain": [
       "<Figure size 432x288 with 1 Axes>"
      ]
     },
     "metadata": {
      "needs_background": "light"
     },
     "output_type": "display_data"
    }
   ],
   "source": [
    "# Reserve 20% of the data for validation\n",
    "X_train, X_test, y_train, y_test = train_test_split(X, y, test_size=0.2, random_state=1)\n",
    "\n",
    "log_reg = LogisticRegression(max_iter=1000)\n",
    "log_reg.fit(X_train, y_train)\n",
    "\n",
    "from sklearn.metrics import plot_precision_recall_curve\n",
    "\n",
    "plot_precision_recall_curve(log_reg, X_test, y_test)"
   ]
  },
  {
   "cell_type": "code",
   "execution_count": 17,
   "id": "arbitrary-worker",
   "metadata": {},
   "outputs": [
    {
     "data": {
      "application/vnd.jupyter.widget-view+json": {
       "model_id": "1d27a9e6869a4789b0bbf99782493939",
       "version_major": 2,
       "version_minor": 0
      },
      "text/plain": [
       "  0%|          | 0/6 [00:00<?, ?it/s]"
      ]
     },
     "metadata": {},
     "output_type": "display_data"
    }
   ],
   "source": [
    "# also load the GapN mutant data and compare the NAD+/NADP+ activity\n",
    "data_dir = \"/projects/bpms/jlaw/gapn-engineering/data/\"\n",
    "new_gapn_data_file = f\"{data_dir}/20211018-GapN-data-up-to-SM160.csv\"\n",
    "gapn_data = pd.read_csv(new_gapn_data_file, index_col=0)\n",
    "# drop the barcode of the sequences: MGSSHHHHHHSSGLVPRGSH\n",
    "gapn_data['Sequence'] = gapn_data['Sequence'].apply(lambda x: x.replace('MGSSHHHHHHSSGLVPRGSH', '').strip('*'))\n",
    "\n",
    "gapn_reps = get_seq_embeddings(model, gapn_data['Sequence'], repr_layer=repr_layer)"
   ]
  },
  {
   "cell_type": "code",
   "execution_count": 18,
   "id": "inappropriate-buddy",
   "metadata": {},
   "outputs": [
    {
     "name": "stderr",
     "output_type": "stream",
     "text": [
      "/home/jlaw/.local/lib/python3.7/site-packages/sklearn/linear_model/_logistic.py:818: ConvergenceWarning: lbfgs failed to converge (status=1):\n",
      "STOP: TOTAL NO. of ITERATIONS REACHED LIMIT.\n",
      "\n",
      "Increase the number of iterations (max_iter) or scale the data as shown in:\n",
      "    https://scikit-learn.org/stable/modules/preprocessing.html\n",
      "Please also refer to the documentation for alternative solver options:\n",
      "    https://scikit-learn.org/stable/modules/linear_model.html#logistic-regression\n",
      "  extra_warning_msg=_LOGISTIC_SOLVER_CONVERGENCE_MSG,\n"
     ]
    },
    {
     "data": {
      "text/plain": [
       "<AxesSubplot:xlabel='NAD+_initial_rate', ylabel='NADP+_initial_rate'>"
      ]
     },
     "execution_count": 18,
     "metadata": {},
     "output_type": "execute_result"
    },
    {
     "data": {
      "image/png": "[encoded data removed]",
      "text/plain": [
       "<Figure size 432x288 with 2 Axes>"
      ]
     },
     "metadata": {
      "needs_background": "light"
     },
     "output_type": "display_data"
    }
   ],
   "source": [
    "# now train on all training data\n",
    "log_reg = LogisticRegression(max_iter=1000)\n",
    "log_reg.fit(X, y)\n",
    "\n",
    "nad_prob = log_reg.predict_proba(gapn_reps)[:,1].ravel()\n",
    "gapn_data['NAD_pred'] = nad_prob\n",
    "gapn_data.plot.scatter(x=\"NAD+_initial_rate\", y=\"NADP+_initial_rate\", c=\"NAD_pred\", cmap=\"viridis\")"
   ]
  },
  {
   "cell_type": "code",
   "execution_count": 19,
   "id": "decreased-information",
   "metadata": {},
   "outputs": [
    {
     "data": {
      "text/plain": [
       "<AxesSubplot:xlabel='NAD+_initial_rate', ylabel='NAD_pred'>"
      ]
     },
     "execution_count": 19,
     "metadata": {},
     "output_type": "execute_result"
    },
    {
     "data": {
      "image/png": "[encoded data removed]",
      "text/plain": [
       "<Figure size 432x288 with 1 Axes>"
      ]
     },
     "metadata": {
      "needs_background": "light"
     },
     "output_type": "display_data"
    }
   ],
   "source": [
    "gapn_data.plot.scatter(x=\"NAD+_initial_rate\", y=\"NAD_pred\")"
   ]
  },
  {
   "cell_type": "code",
   "execution_count": 40,
   "id": "sharing-electricity",
   "metadata": {},
   "outputs": [
    {
     "data": {
      "text/plain": [
       "<AxesSubplot:xlabel='NAD+_initial_rate', ylabel='NADP+_initial_rate'>"
      ]
     },
     "execution_count": 40,
     "metadata": {},
     "output_type": "execute_result"
    },
    {
     "data": {
      "image/png": "[encoded data removed]",
      "text/plain": [
       "<Figure size 432x288 with 2 Axes>"
      ]
     },
     "metadata": {
      "needs_background": "light"
     },
     "output_type": "display_data"
    }
   ],
   "source": [
    "# now train on all training data\n",
    "from joblib import parallel_backend\n",
    "\n",
    "with parallel_backend('threading', n_jobs=2):\n",
    "    log_reg = LogisticRegression(max_iter=1000)\n",
    "    log_reg.fit(X, y)\n",
    "\n",
    "nad_prob = log_reg.predict_proba(gapn_reps)[:,1].ravel()\n",
    "gapn_data['NAD_pred'] = nad_prob\n",
    "gapn_data.plot.scatter(x=\"NAD+_initial_rate\", y=\"NADP+_initial_rate\", c=\"NAD_pred\", cmap=\"viridis\")"
   ]
  },
  {
   "cell_type": "code",
   "execution_count": 42,
   "id": "fallen-argentina",
   "metadata": {},
   "outputs": [],
   "source": [
    "nad_file = \"/projects/bpms/jlaw/inputs/nad_nadp/kegg_nad_uniprot_match_enz.txt\"\n",
    "nadp_file = \"/projects/bpms/jlaw/inputs/nad_nadp/kegg_nadp_uniprot_match_enz.txt\"\n",
    "nad_uniprot_match = set(pd.read_csv(nad_file, header=None).squeeze().values)\n",
    "nadp_uniprot_match = set(pd.read_csv(nadp_file, header=None).squeeze().values)"
   ]
  },
  {
   "cell_type": "code",
   "execution_count": 46,
   "id": "vietnamese-premiere",
   "metadata": {},
   "outputs": [
    {
     "name": "stdout",
     "output_type": "stream",
     "text": [
      "43922 57706\n"
     ]
    }
   ],
   "source": [
    "nad_idx = []\n",
    "nad_ids = []\n",
    "nadp_idx = []\n",
    "nadp_ids = []\n",
    "for idx, p in enumerate(df['seq_id'].values):\n",
    "    if p in nad_uniprot_match:\n",
    "        nad_idx.append(idx)\n",
    "        nad_ids.append(p)\n",
    "    elif p in nadp_uniprot_match:\n",
    "        nadp_idx.append(idx)\n",
    "        nadp_ids.append(p)\n",
    "print(len(nad_idx), len(nadp_idx))"
   ]
  },
  {
   "cell_type": "code",
   "execution_count": 50,
   "id": "first-occurrence",
   "metadata": {},
   "outputs": [
    {
     "name": "stdout",
     "output_type": "stream",
     "text": [
      "(101628, 1280) 101628\n"
     ]
    }
   ],
   "source": [
    "X = np.vstack([representations[nad_idx], representations[nadp_idx]])\n",
    "y = np.append(np.ones(len(nad_idx)), np.zeros(len(nadp_idx)))\n",
    "print(X.shape, len(y))"
   ]
  },
  {
   "cell_type": "code",
   "execution_count": 51,
   "id": "senior-butler",
   "metadata": {},
   "outputs": [
    {
     "name": "stderr",
     "output_type": "stream",
     "text": [
      "/home/jlaw/.local/lib/python3.7/site-packages/sklearn/linear_model/_logistic.py:818: ConvergenceWarning: lbfgs failed to converge (status=1):\n",
      "STOP: TOTAL NO. of ITERATIONS REACHED LIMIT.\n",
      "\n",
      "Increase the number of iterations (max_iter) or scale the data as shown in:\n",
      "    https://scikit-learn.org/stable/modules/preprocessing.html\n",
      "Please also refer to the documentation for alternative solver options:\n",
      "    https://scikit-learn.org/stable/modules/linear_model.html#logistic-regression\n",
      "  extra_warning_msg=_LOGISTIC_SOLVER_CONVERGENCE_MSG,\n",
      "/home/jlaw/.local/lib/python3.7/site-packages/sklearn/utils/deprecation.py:87: FutureWarning: Function plot_precision_recall_curve is deprecated; Function `plot_precision_recall_curve` is deprecated in 1.0 and will be removed in 1.2. Use one of the class methods: PrecisionRecallDisplay.from_predictions or PrecisionRecallDisplay.from_estimator.\n",
      "  warnings.warn(msg, category=FutureWarning)\n"
     ]
    },
    {
     "data": {
      "text/plain": [
       "<sklearn.metrics._plot.precision_recall_curve.PrecisionRecallDisplay at 0x7fe26c9cb150>"
      ]
     },
     "execution_count": 51,
     "metadata": {},
     "output_type": "execute_result"
    },
    {
     "data": {
      "image/png": "[encoded data removed]",
      "text/plain": [
       "<Figure size 432x288 with 1 Axes>"
      ]
     },
     "metadata": {
      "needs_background": "light"
     },
     "output_type": "display_data"
    }
   ],
   "source": [
    "from sklearn.linear_model import LogisticRegression\n",
    "from sklearn.model_selection import train_test_split\n",
    "\n",
    "# Reserve 20% of the data for validation\n",
    "X_train, X_test, y_train, y_test = train_test_split(X, y, test_size=0.2, random_state=1)\n",
    "\n",
    "log_reg = LogisticRegression(max_iter=1000)\n",
    "log_reg.fit(X_train, y_train)\n",
    "\n",
    "from sklearn.metrics import plot_precision_recall_curve\n",
    "\n",
    "plot_precision_recall_curve(log_reg, X_test, y_test)"
   ]
  },
  {
   "cell_type": "code",
   "execution_count": 61,
   "id": "structural-router",
   "metadata": {},
   "outputs": [
    {
     "data": {
      "image/png": "[encoded data removed]",
      "text/plain": [
       "<Figure size 432x288 with 2 Axes>"
      ]
     },
     "metadata": {
      "needs_background": "light"
     },
     "output_type": "display_data"
    }
   ],
   "source": [
    "# now train on all training data\n",
    "# log_reg = LogisticRegression(max_iter=1000)\n",
    "# log_reg.fit(X, y)\n",
    "\n",
    "nad_prob = log_reg.predict_proba(gapn_reps)[:,1].ravel()\n",
    "gapn_data['NAD_pred'] = nad_prob\n",
    "ax = gapn_data.plot.scatter(x=\"NAD+_initial_rate\", y=\"NADP+_initial_rate\", c=\"NAD_pred\", cmap=\"viridis\")\n",
    "# ax.set_xlabel(\"NAD+ initial_rate\")\n",
    "plt.xlabel(\"NAD+ initial_rate\")\n",
    "plt.tight_layout()"
   ]
  }
 ],
 "metadata": {
  "kernelspec": {
   "display_name": "Python 3",
   "language": "python",
   "name": "python3"
  },
  "language_info": {
   "codemirror_mode": {
    "name": "ipython",
    "version": 3
   },
   "file_extension": ".py",
   "mimetype": "text/x-python",
   "name": "python",
   "nbconvert_exporter": "python",
   "pygments_lexer": "ipython3",
   "version": "3.7.9"
  }
 },
 "nbformat": 4,
 "nbformat_minor": 5
}
