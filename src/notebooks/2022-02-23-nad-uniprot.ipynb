{
 "cells": [
  {
   "cell_type": "code",
   "execution_count": 1,
   "id": "caroline-flower",
   "metadata": {},
   "outputs": [],
   "source": [
    "import pandas as pd\n",
    "import numpy as np\n",
    "import gzip\n",
    "from tqdm.notebook import tqdm"
   ]
  },
  {
   "cell_type": "code",
   "execution_count": 2,
   "id": "stylish-moscow",
   "metadata": {},
   "outputs": [],
   "source": [
    "import torch"
   ]
  },
  {
   "cell_type": "code",
   "execution_count": 8,
   "id": "helpful-tumor",
   "metadata": {},
   "outputs": [
    {
     "name": "stdout",
     "output_type": "stream",
     "text": [
      "0    A0A6J0JUL3\n",
      "1    A0A5Q0QDC4\n",
      "2        B5XZX7\n",
      "3    A0A6G7YB72\n",
      "4        D0A1U1\n",
      "Name: 0, dtype: object\n"
     ]
    }
   ],
   "source": [
    "nad_prots = pd.read_csv('/projects/bpms/jlaw/inputs/nad_nadp/kegg_nad_uniprot.txt', header=None).squeeze()\n",
    "print(nad_prots.head())"
   ]
  },
  {
   "cell_type": "code",
   "execution_count": 9,
   "id": "selective-crisis",
   "metadata": {},
   "outputs": [
    {
     "name": "stdout",
     "output_type": "stream",
     "text": [
      "0    A0A1D8P7Q7\n",
      "1    A0A7L5Y0F6\n",
      "2    A0A6J0JUL3\n",
      "3        E0RUK3\n",
      "4        C5D5T3\n",
      "Name: 0, dtype: object\n"
     ]
    }
   ],
   "source": [
    "nadp_prots = pd.read_csv('/projects/bpms/jlaw/inputs/nad_nadp/kegg_nadp_uniprot.txt', header=None).squeeze()\n",
    "print(nadp_prots.head())"
   ]
  },
  {
   "cell_type": "code",
   "execution_count": 11,
   "id": "interpreted-premium",
   "metadata": {},
   "outputs": [],
   "source": [
    "prot_set = set(nad_prots) | set(nadp_prots)"
   ]
  },
  {
   "cell_type": "code",
   "execution_count": 18,
   "id": "heated-process",
   "metadata": {},
   "outputs": [
    {
     "name": "stdout",
     "output_type": "stream",
     "text": [
      "566753\n"
     ]
    }
   ],
   "source": [
    "print(len(prot_set))"
   ]
  },
  {
   "cell_type": "code",
   "execution_count": 3,
   "id": "drawn-swiss",
   "metadata": {},
   "outputs": [],
   "source": [
    "# copied from here: https://stackoverflow.com/a/29805905/7483950\n",
    "def read_fasta(fp, gzipped=False):\n",
    "        name, seq = None, []\n",
    "        for line in fp:\n",
    "            if gzipped:\n",
    "                line = line.decode()\n",
    "            line = line.rstrip()\n",
    "            if line.startswith(\">\"):\n",
    "                if name: yield (name, ''.join(seq))\n",
    "                name, seq = line[1:], []\n",
    "            else:\n",
    "                seq.append(line)\n",
    "        if name: yield (name, ''.join(seq))"
   ]
  },
  {
   "cell_type": "code",
   "execution_count": 17,
   "id": "headed-rehabilitation",
   "metadata": {},
   "outputs": [
    {
     "name": "stdout",
     "output_type": "stream",
     "text": [
      "reading /projects/deepgreen/jlaw/inputs/uniprot/2021-05/2021-05-25-uniprot_swissprot_trembl_shortid.fasta.gz\n"
     ]
    },
    {
     "data": {
      "application/vnd.jupyter.widget-view+json": {
       "model_id": "903dac7b48114e399c0fe0989f8814ac",
       "version_major": 2,
       "version_minor": 0
      },
      "text/plain": [
       "  0%|          | 0/214406399 [00:00<?, ?it/s]"
      ]
     },
     "metadata": {},
     "output_type": "display_data"
    },
    {
     "name": "stdout",
     "output_type": "stream",
     "text": [
      "\t566571 read\n"
     ]
    }
   ],
   "source": [
    "fasta_file = \"/projects/deepgreen/jlaw/inputs/uniprot/2021-05/2021-05-25-uniprot_swissprot_trembl_shortid.fasta.gz\"\n",
    "print(f\"reading {fasta_file}\")\n",
    "sequences = {}\n",
    "# prot_set = set(prots)\n",
    "with gzip.open(fasta_file, 'r') as f:\n",
    "    for name, seq in tqdm(read_fasta(f, gzipped=True), total=214406399):\n",
    "        # just read in the proteins that have GO annotations\n",
    "        if name not in prot_set:\n",
    "            continue\n",
    "        # make sure there aren't these strange AAs\n",
    "        seq = seq.replace('B', 'D').replace('Z', 'E').replace('J', 'L')\n",
    "#         print(name, seq)\n",
    "        sequences[name] = seq\n",
    "\n",
    "print(f\"\\t{len(sequences)} read\")"
   ]
  },
  {
   "cell_type": "markdown",
   "id": "linear-perfume",
   "metadata": {},
   "source": [
    "### Also try using manual evidence of binding from UniProt\n",
    "See /projects/bpms/jlaw/gapn-engineering/data/nad_nadp\n",
    "\n",
    "I downloaded these nadp and nad examples from uniprot from here:\n",
    "https://www.uniprot.org/uniprot/?query=annotation%3A%28type%3Abinding+nadp+evidence%3Amanual%29+OR+annotation%3A%28type%3Anp_bind+nadp+evidence\n",
    "https://www.uniprot.org/uniprot/?query=annotation%3A%28type%3Abinding+nad+evidence%3Amanual%29+OR+annotation%3A%28type%3Anp_bind+nad+evidence%3\n",
    "\n",
    "This is what I used in the search bar:\n",
    "annotation:(type:binding nad evidence:manual) OR annotation:(type:np_bind nad evidence:manual)\n",
    "annotation:(type:binding nadp evidence:manual) OR annotation:(type:np_bind nadp evidence:manual)\n",
    "\n",
    "I noticed that proteins that use NAD or NADP have binding sites listed with NAD(P) and/or regions of nucleotide binding with NAD(P).\n",
    "So those searches are for either of htose evidence types"
   ]
  },
  {
   "cell_type": "code",
   "execution_count": 4,
   "id": "outstanding-terrace",
   "metadata": {},
   "outputs": [],
   "source": [
    "def read_fasta_file(fasta_file, prot_set=None):\n",
    "    sequences = {}\n",
    "    # prot_set = set(prots)\n",
    "    gzipped = fasta_file.endswith('.gz')\n",
    "    open_func = gzip.open if gzipped else open\n",
    "    with open_func(fasta_file, 'r') as f:\n",
    "        for name, seq in tqdm(read_fasta(f, gzipped=gzipped)):\n",
    "            # just read in the proteins that have GO annotations\n",
    "            if prot_set and name not in prot_set:\n",
    "                continue\n",
    "            # make sure there aren't these strange AAs\n",
    "            seq = seq.replace('B', 'D').replace('Z', 'E').replace('J', 'L')\n",
    "    #         print(name, seq)\n",
    "            sequences[name] = seq\n",
    "    return sequences"
   ]
  },
  {
   "cell_type": "code",
   "execution_count": 47,
   "id": "sized-borough",
   "metadata": {},
   "outputs": [
    {
     "data": {
      "application/vnd.jupyter.widget-view+json": {
       "model_id": "6929a1711f2844d68151de49c928214d",
       "version_major": 2,
       "version_minor": 0
      },
      "text/plain": [
       "0it [00:00, ?it/s]"
      ]
     },
     "metadata": {},
     "output_type": "display_data"
    },
    {
     "data": {
      "application/vnd.jupyter.widget-view+json": {
       "model_id": "4f984705c6c64a2192c04d0b25c1140e",
       "version_major": 2,
       "version_minor": 0
      },
      "text/plain": [
       "0it [00:00, ?it/s]"
      ]
     },
     "metadata": {},
     "output_type": "display_data"
    }
   ],
   "source": [
    "data_dir = \"/projects/bpms/jlaw/gapn-engineering/data\"\n",
    "nad_file = f\"{data_dir}/nad_nadp/2022_02_25_uniprot_binding_nad.fasta\"\n",
    "nadp_file = f\"{data_dir}/nad_nadp/2022_02_25_uniprot_binding_nadp.fasta\"\n",
    "nad_seqs = read_fasta_file(nad_file)\n",
    "nadp_seqs = read_fasta_file(nadp_file)"
   ]
  },
  {
   "cell_type": "code",
   "execution_count": 6,
   "id": "knowing-direction",
   "metadata": {},
   "outputs": [
    {
     "name": "stdout",
     "output_type": "stream",
     "text": [
      "10894 NAD seqs, 6737 NADP seqs, 17031 combined\n"
     ]
    }
   ],
   "source": [
    "all_seqs = {**nad_seqs, **nadp_seqs}\n",
    "print(f\"{len(nad_seqs)} NAD seqs, {len(nadp_seqs)} NADP seqs, {len(all_seqs)} combined\")"
   ]
  },
  {
   "cell_type": "code",
   "execution_count": 18,
   "id": "manual-kidney",
   "metadata": {},
   "outputs": [
    {
     "name": "stderr",
     "output_type": "stream",
     "text": [
      "Using cache found in /scratch/jlaw/torch/facebookresearch_esm_main\n"
     ]
    }
   ],
   "source": [
    "# model_name = \"esm1_t6_43M_UR50S\"\n",
    "model_name = \"esm1b_t33_650M_UR50S\"\n",
    "torch.hub.set_dir('/scratch/jlaw/torch')\n",
    "# torch.hub.set_dir('/gpfs/alpine/scratch/jlaw/bie108/torch/hub')\n",
    "model, alphabet = torch.hub.load(\"facebookresearch/esm:main\", model_name)\n",
    "device = 'cuda:0' if torch.cuda.is_available() else 'cpu'\n",
    "model = model.eval()\n",
    "model = model.to(device)\n",
    "batch_converter = alphabet.get_batch_converter()\n",
    "# get the representations from the last layer \n",
    "repr_layer = model.num_layers"
   ]
  },
  {
   "cell_type": "code",
   "execution_count": 8,
   "id": "continued-hunter",
   "metadata": {},
   "outputs": [],
   "source": [
    "import time"
   ]
  },
  {
   "cell_type": "code",
   "execution_count": 23,
   "id": "dedicated-breeding",
   "metadata": {},
   "outputs": [],
   "source": [
    "from torch.cuda.amp import GradScaler\n",
    "from torch.cuda.amp import autocast"
   ]
  },
  {
   "cell_type": "code",
   "execution_count": 39,
   "id": "immediate-spray",
   "metadata": {},
   "outputs": [],
   "source": [
    "# generate the embeddings for these sequences\n",
    "def get_seq_embeddings(model, seqs, repr_layer=33, batch_size=16):\n",
    "    \"\"\"\n",
    "    Generate an embedding for every sequence using the specified model\n",
    "    \"\"\"\n",
    "    scaler = GradScaler()\n",
    "    batch_labels, batch_strs, batch_tokens = batch_converter(list(zip(np.arange(len(seqs)), seqs)))\n",
    "\n",
    "    batch_dataloader = torch.utils.data.DataLoader(batch_tokens, \n",
    "                                                   batch_size=batch_size, \n",
    "                                                   pin_memory=True,\n",
    "                                                   num_workers=8\n",
    "                                                  )\n",
    "\n",
    "    representations = []\n",
    "    with torch.no_grad():\n",
    "        for batch_idx, batch in tqdm(enumerate(batch_dataloader), total=len(batch_dataloader)):\n",
    "            out = model(batch.to(device), repr_layers=[repr_layer])  # because this is the 33-layer transformer\n",
    "            out = out['representations'][repr_layer].detach().to('cpu').numpy()\n",
    "\n",
    "            for i in range(len(batch)):\n",
    "                representations += [out[i, 1:len(batch[i]) + 1].mean(0).astype(np.float16)]\n",
    "    representations = np.vstack(representations)\n",
    "    return representations"
   ]
  },
  {
   "cell_type": "code",
   "execution_count": 40,
   "id": "yellow-directive",
   "metadata": {},
   "outputs": [
    {
     "data": {
      "application/vnd.jupyter.widget-view+json": {
       "model_id": "947692a845044e05bbb384355cdbfc17",
       "version_major": 2,
       "version_minor": 0
      },
      "text/plain": [
       "  0%|          | 0/267 [00:00<?, ?it/s]"
      ]
     },
     "metadata": {},
     "output_type": "display_data"
    }
   ],
   "source": [
    "seq_labels = sorted(all_seqs)\n",
    "seqs = [all_seqs[l] for l in seq_labels]\n",
    "seqs = [seq[:1022] if len(seq) > 1022 else seq for seq in seqs]\n",
    "with autocast():\n",
    "    representations = get_seq_embeddings(model, seqs, repr_layer=repr_layer, batch_size=64)"
   ]
  },
  {
   "cell_type": "code",
   "execution_count": 43,
   "id": "legislative-letters",
   "metadata": {},
   "outputs": [
    {
     "data": {
      "text/plain": [
       "True"
      ]
     },
     "execution_count": 43,
     "metadata": {},
     "output_type": "execute_result"
    }
   ],
   "source": [
    "'Q59931' in nadp_seqs"
   ]
  },
  {
   "cell_type": "code",
   "execution_count": 57,
   "id": "polyphonic-budget",
   "metadata": {},
   "outputs": [
    {
     "data": {
      "text/plain": [
       "(17031, 1280)"
      ]
     },
     "execution_count": 57,
     "metadata": {},
     "output_type": "execute_result"
    }
   ],
   "source": [
    "representations.shape"
   ]
  },
  {
   "cell_type": "code",
   "execution_count": 44,
   "id": "third-pledge",
   "metadata": {},
   "outputs": [],
   "source": [
    "X = representations\n",
    "y = [1 if s in nad_seqs else 0 for s in seq_labels]"
   ]
  },
  {
   "cell_type": "code",
   "execution_count": 53,
   "id": "still-center",
   "metadata": {},
   "outputs": [
    {
     "data": {
      "text/plain": [
       "10894"
      ]
     },
     "execution_count": 53,
     "metadata": {},
     "output_type": "execute_result"
    }
   ],
   "source": [
    "sum(y)"
   ]
  },
  {
   "cell_type": "code",
   "execution_count": 60,
   "id": "established-disability",
   "metadata": {},
   "outputs": [
    {
     "data": {
      "text/plain": [
       "0.35691223950689754"
      ]
     },
     "execution_count": 60,
     "metadata": {},
     "output_type": "execute_result"
    }
   ],
   "source": [
    "(len(y_test) - sum(y_test)) / len(y_test)"
   ]
  },
  {
   "cell_type": "code",
   "execution_count": 45,
   "id": "irish-bottle",
   "metadata": {},
   "outputs": [
    {
     "name": "stderr",
     "output_type": "stream",
     "text": [
      "/home/jlaw/.local/lib/python3.7/site-packages/sklearn/utils/deprecation.py:87: FutureWarning: Function plot_precision_recall_curve is deprecated; Function `plot_precision_recall_curve` is deprecated in 1.0 and will be removed in 1.2. Use one of the class methods: PrecisionRecallDisplay.from_predictions or PrecisionRecallDisplay.from_estimator.\n",
      "  warnings.warn(msg, category=FutureWarning)\n"
     ]
    },
    {
     "data": {
      "text/plain": [
       "<sklearn.metrics._plot.precision_recall_curve.PrecisionRecallDisplay at 0x7fe83fcd3e50>"
      ]
     },
     "execution_count": 45,
     "metadata": {},
     "output_type": "execute_result"
    },
    {
     "data": {
      "image/png": "[encoded data removed]",
      "text/plain": [
       "<Figure size 432x288 with 1 Axes>"
      ]
     },
     "metadata": {
      "needs_background": "light"
     },
     "output_type": "display_data"
    }
   ],
   "source": [
    "from sklearn.linear_model import LogisticRegression\n",
    "from sklearn.model_selection import train_test_split\n",
    "\n",
    "# Reserve 20% of the data for validation\n",
    "X_train, X_test, y_train, y_test = train_test_split(X, y, test_size=0.2, random_state=1)\n",
    "\n",
    "log_reg = LogisticRegression(max_iter=1000)\n",
    "log_reg.fit(X_train, y_train)\n",
    "\n",
    "from sklearn.metrics import plot_precision_recall_curve\n",
    "\n",
    "plot_precision_recall_curve(log_reg, X_test, y_test)"
   ]
  },
  {
   "cell_type": "code",
   "execution_count": 50,
   "id": "opposite-spyware",
   "metadata": {},
   "outputs": [
    {
     "data": {
      "application/vnd.jupyter.widget-view+json": {
       "model_id": "7acd3cb2997a469884f32c2d6591fcd3",
       "version_major": 2,
       "version_minor": 0
      },
      "text/plain": [
       "  0%|          | 0/6 [00:00<?, ?it/s]"
      ]
     },
     "metadata": {},
     "output_type": "display_data"
    }
   ],
   "source": [
    "# also load the GapN mutant data and compare the NAD+/NADP+ activity\n",
    "new_gapn_data_file = f\"{data_dir}/20211018-GapN-data-up-to-SM160.csv\"\n",
    "gapn_data = pd.read_csv(new_gapn_data_file, index_col=0)\n",
    "# drop the barcode of the sequences: MGSSHHHHHHSSGLVPRGSH\n",
    "gapn_data['Sequence'] = gapn_data['Sequence'].apply(lambda x: x.replace('MGSSHHHHHHSSGLVPRGSH', '').strip('*'))\n",
    "\n",
    "gapn_reps = get_seq_embeddings(model, gapn_data['Sequence'], repr_layer=repr_layer)"
   ]
  },
  {
   "cell_type": "code",
   "execution_count": 56,
   "id": "sapphire-county",
   "metadata": {},
   "outputs": [
    {
     "data": {
      "text/plain": [
       "<AxesSubplot:xlabel='NAD+_initial_rate', ylabel='NADP+_initial_rate'>"
      ]
     },
     "execution_count": 56,
     "metadata": {},
     "output_type": "execute_result"
    },
    {
     "data": {
      "image/png": "[encoded data removed]",
      "text/plain": [
       "<Figure size 432x288 with 2 Axes>"
      ]
     },
     "metadata": {
      "needs_background": "light"
     },
     "output_type": "display_data"
    }
   ],
   "source": [
    "# now train on all training data\n",
    "log_reg = LogisticRegression(max_iter=1000)\n",
    "log_reg.fit(X, y)\n",
    "\n",
    "nad_prob = log_reg.predict_proba(gapn_reps)[:,1].ravel()\n",
    "gapn_data['NAD_pred'] = nad_prob\n",
    "gapn_data.plot.scatter(x=\"NAD+_initial_rate\", y=\"NADP+_initial_rate\", c=\"NAD_pred\", cmap=\"viridis\")"
   ]
  },
  {
   "cell_type": "code",
   "execution_count": null,
   "id": "growing-disorder",
   "metadata": {},
   "outputs": [],
   "source": [
    "# try training a neural net instead\n"
   ]
  },
  {
   "cell_type": "code",
   "execution_count": 61,
   "id": "delayed-tutorial",
   "metadata": {},
   "outputs": [],
   "source": [
    "import torch\n",
    "from torch import nn\n",
    "import pytorch_lightning as pl\n",
    "import torchmetrics"
   ]
  },
  {
   "cell_type": "code",
   "execution_count": 62,
   "id": "peripheral-vocabulary",
   "metadata": {},
   "outputs": [],
   "source": [
    "class NeuralNetwork(pl.LightningModule):\n",
    "    def __init__(self, initial_layer_size=1280):\n",
    "        super(NeuralNetwork, self).__init__()\n",
    "        self.linear_relu_stack = nn.Sequential(\n",
    "            nn.Linear(initial_layer_size, 512),\n",
    "            nn.ReLU(),\n",
    "            # nn.Linear(512, 1),            \n",
    "            nn.Linear(512, 512),\n",
    "            nn.ReLU(),\n",
    "            nn.Linear(512, 1),\n",
    "            # nn.ReLU(),\n",
    "        )\n",
    "\n",
    "    def forward(self, x):\n",
    "        logits = self.linear_relu_stack(x)\n",
    "        return logits    \n",
    "\n",
    "    def training_step(self, batch, batch_idx):\n",
    "        x, y = batch\n",
    "        y_pred = self(x)\n",
    "        loss = nn.functional.mse_loss(y_pred, y)\n",
    "        self.log('train_loss', loss)\n",
    "        return loss\n",
    "    \n",
    "    def validation_step(self, batch, batch_idx):\n",
    "        x, y = batch\n",
    "        y_pred = self(x)\n",
    "        loss = nn.functional.mse_loss(y_pred, y)        \n",
    "        self.log(\"val_loss\", loss)\n",
    "        \n",
    "    def configure_optimizers(self):\n",
    "        optimizer = torch.optim.Adam(self.parameters(), lr=1e-3)\n",
    "        return optimizer"
   ]
  },
  {
   "cell_type": "code",
   "execution_count": 63,
   "id": "medieval-heating",
   "metadata": {},
   "outputs": [],
   "source": [
    "def fit_predict(X_train, y_train, X_valid):\n",
    "    pl.seed_everything(42)\n",
    "    model = NeuralNetwork(initial_layer_size=X_train.shape[1])\n",
    "    \n",
    "    trainer = pl.Trainer(\n",
    "        gpus=-1,\n",
    "        max_steps=400,\n",
    "        log_every_n_steps=4,\n",
    "        progress_bar_refresh_rate=0.)\n",
    "    \n",
    "    train_dataset = torch.utils.data.TensorDataset(torch.Tensor(X_train), torch.Tensor(y_train))\n",
    "    # valid_dataset = torch.utils.data.TensorDataset(torch.Tensor(X_valid), torch.Tensor(y_valid))\n",
    "\n",
    "    train_loader = torch.utils.data.DataLoader(train_dataset, batch_size=16, shuffle=True)\n",
    "    # valid_loader = torch.utils.data.DataLoader(valid_dataset, batch_size=16, shuffle=False)\n",
    "\n",
    "    trainer.fit(model, train_loader)\n",
    "    \n",
    "    return model(torch.Tensor(X_valid)).detach().numpy()"
   ]
  },
  {
   "cell_type": "code",
   "execution_count": 64,
   "id": "harmful-yesterday",
   "metadata": {},
   "outputs": [
    {
     "name": "stderr",
     "output_type": "stream",
     "text": [
      "Global seed set to 42\n",
      "/lustre/eaglefs/projects/deepgreen/jlaw/envs/fairseq/lib/python3.7/site-packages/pytorch_lightning/trainer/connectors/callback_connector.py:91: LightningDeprecationWarning: Setting `Trainer(progress_bar_refresh_rate=0.0)` is deprecated in v1.5 and will be removed in v1.7. Please pass `pytorch_lightning.callbacks.progress.TQDMProgressBar` with `refresh_rate` directly to the Trainer's `callbacks` argument instead. Or, to disable the progress bar pass `enable_progress_bar = False` to the Trainer.\n",
      "  f\"Setting `Trainer(progress_bar_refresh_rate={progress_bar_refresh_rate})` is deprecated in v1.5 and\"\n",
      "GPU available: True, used: True\n",
      "TPU available: False, using: 0 TPU cores\n",
      "IPU available: False, using: 0 IPUs\n",
      "/lustre/eaglefs/projects/deepgreen/jlaw/envs/fairseq/lib/python3.7/site-packages/pytorch_lightning/trainer/configuration_validator.py:118: UserWarning: You defined a `validation_step` but have no `val_dataloader`. Skipping val loop.\n",
      "  rank_zero_warn(\"You defined a `validation_step` but have no `val_dataloader`. Skipping val loop.\")\n",
      "LOCAL_RANK: 0 - CUDA_VISIBLE_DEVICES: [0]\n",
      "\n",
      "  | Name              | Type       | Params\n",
      "-------------------------------------------------\n",
      "0 | linear_relu_stack | Sequential | 919 K \n",
      "-------------------------------------------------\n",
      "919 K     Trainable params\n",
      "0         Non-trainable params\n",
      "919 K     Total params\n",
      "3.676     Total estimated model params size (MB)\n",
      "/lustre/eaglefs/projects/deepgreen/jlaw/envs/fairseq/lib/python3.7/site-packages/pytorch_lightning/trainer/data_loading.py:117: UserWarning: The dataloader, train_dataloader, does not have many workers which may be a bottleneck. Consider increasing the value of the `num_workers` argument` (try 36 which is the number of cpus on this machine) in the `DataLoader` init to improve performance.\n",
      "  f\"The dataloader, {name}, does not have many workers which may be a bottleneck.\"\n",
      "/lustre/eaglefs/projects/deepgreen/jlaw/envs/fairseq/lib/python3.7/site-packages/ipykernel_launcher.py:21: UserWarning: Using a target size (torch.Size([16])) that is different to the input size (torch.Size([16, 1])). This will likely lead to incorrect results due to broadcasting. Please ensure they have the same size.\n"
     ]
    }
   ],
   "source": [
    "pred = fit_predict(X_train, y_train, X_test).flatten()"
   ]
  },
  {
   "cell_type": "code",
   "execution_count": 68,
   "id": "finnish-convergence",
   "metadata": {},
   "outputs": [
    {
     "data": {
      "text/plain": [
       "array([0.6091909 , 0.540318  , 0.51736826, ..., 0.52739394, 0.56902933,\n",
       "       0.5313288 ], dtype=float32)"
      ]
     },
     "execution_count": 68,
     "metadata": {},
     "output_type": "execute_result"
    }
   ],
   "source": [
    "pred"
   ]
  },
  {
   "cell_type": "code",
   "execution_count": 69,
   "id": "polyphonic-representation",
   "metadata": {},
   "outputs": [
    {
     "data": {
      "text/plain": [
       "<AxesSubplot:>"
      ]
     },
     "execution_count": 69,
     "metadata": {},
     "output_type": "execute_result"
    },
    {
     "data": {
      "image/png": "[encoded data removed]",
      "text/plain": [
       "<Figure size 432x288 with 1 Axes>"
      ]
     },
     "metadata": {
      "needs_background": "light"
     },
     "output_type": "display_data"
    }
   ],
   "source": [
    "S = pd.Series(pred)\n",
    "S.hist()"
   ]
  },
  {
   "cell_type": "code",
   "execution_count": 67,
   "id": "informal-brooklyn",
   "metadata": {},
   "outputs": [
    {
     "data": {
      "text/plain": [
       "<sklearn.metrics._plot.precision_recall_curve.PrecisionRecallDisplay at 0x7fe7f204dbd0>"
      ]
     },
     "execution_count": 67,
     "metadata": {},
     "output_type": "execute_result"
    },
    {
     "data": {
      "image/png": "[encoded data removed]",
      "text/plain": [
       "<Figure size 432x288 with 1 Axes>"
      ]
     },
     "metadata": {
      "needs_background": "light"
     },
     "output_type": "display_data"
    }
   ],
   "source": [
    "from sklearn.metrics import PrecisionRecallDisplay\n",
    "PrecisionRecallDisplay.from_predictions(y_test, pred)"
   ]
  },
  {
   "cell_type": "code",
   "execution_count": 77,
   "id": "swedish-acceptance",
   "metadata": {},
   "outputs": [
    {
     "name": "stderr",
     "output_type": "stream",
     "text": [
      "Global seed set to 42\n",
      "/lustre/eaglefs/projects/deepgreen/jlaw/envs/fairseq/lib/python3.7/site-packages/pytorch_lightning/trainer/connectors/callback_connector.py:91: LightningDeprecationWarning: Setting `Trainer(progress_bar_refresh_rate=0.0)` is deprecated in v1.5 and will be removed in v1.7. Please pass `pytorch_lightning.callbacks.progress.TQDMProgressBar` with `refresh_rate` directly to the Trainer's `callbacks` argument instead. Or, to disable the progress bar pass `enable_progress_bar = False` to the Trainer.\n",
      "  f\"Setting `Trainer(progress_bar_refresh_rate={progress_bar_refresh_rate})` is deprecated in v1.5 and\"\n",
      "GPU available: True, used: True\n",
      "TPU available: False, using: 0 TPU cores\n",
      "IPU available: False, using: 0 IPUs\n",
      "/lustre/eaglefs/projects/deepgreen/jlaw/envs/fairseq/lib/python3.7/site-packages/pytorch_lightning/trainer/configuration_validator.py:118: UserWarning: You defined a `validation_step` but have no `val_dataloader`. Skipping val loop.\n",
      "  rank_zero_warn(\"You defined a `validation_step` but have no `val_dataloader`. Skipping val loop.\")\n",
      "LOCAL_RANK: 0 - CUDA_VISIBLE_DEVICES: [0]\n",
      "\n",
      "  | Name              | Type       | Params\n",
      "-------------------------------------------------\n",
      "0 | linear_relu_stack | Sequential | 919 K \n",
      "-------------------------------------------------\n",
      "919 K     Trainable params\n",
      "0         Non-trainable params\n",
      "919 K     Total params\n",
      "3.676     Total estimated model params size (MB)\n",
      "/lustre/eaglefs/projects/deepgreen/jlaw/envs/fairseq/lib/python3.7/site-packages/pytorch_lightning/trainer/data_loading.py:117: UserWarning: The dataloader, train_dataloader, does not have many workers which may be a bottleneck. Consider increasing the value of the `num_workers` argument` (try 36 which is the number of cpus on this machine) in the `DataLoader` init to improve performance.\n",
      "  f\"The dataloader, {name}, does not have many workers which may be a bottleneck.\"\n",
      "/lustre/eaglefs/projects/deepgreen/jlaw/envs/fairseq/lib/python3.7/site-packages/ipykernel_launcher.py:21: UserWarning: Using a target size (torch.Size([16])) that is different to the input size (torch.Size([16, 1])). This will likely lead to incorrect results due to broadcasting. Please ensure they have the same size.\n"
     ]
    }
   ],
   "source": [
    "gapn_pred = fit_predict(X, y, gapn_reps).flatten()"
   ]
  },
  {
   "cell_type": "code",
   "execution_count": 79,
   "id": "cooperative-judge",
   "metadata": {},
   "outputs": [
    {
     "data": {
      "text/plain": [
       "<AxesSubplot:>"
      ]
     },
     "execution_count": 79,
     "metadata": {},
     "output_type": "execute_result"
    },
    {
     "data": {
      "image/png": "[encoded data removed]",
      "text/plain": [
       "<Figure size 432x288 with 1 Axes>"
      ]
     },
     "metadata": {
      "needs_background": "light"
     },
     "output_type": "display_data"
    }
   ],
   "source": [
    "S = pd.Series(gapn_pred)\n",
    "S.hist()"
   ]
  },
  {
   "cell_type": "code",
   "execution_count": 81,
   "id": "known-moldova",
   "metadata": {},
   "outputs": [
    {
     "data": {
      "text/plain": [
       "<AxesSubplot:xlabel='NAD+_initial_rate', ylabel='NADP+_initial_rate'>"
      ]
     },
     "execution_count": 81,
     "metadata": {},
     "output_type": "execute_result"
    },
    {
     "data": {
      "image/png": "[encoded data removed]",
      "text/plain": [
       "<Figure size 432x288 with 2 Axes>"
      ]
     },
     "metadata": {
      "needs_background": "light"
     },
     "output_type": "display_data"
    }
   ],
   "source": [
    "# now train on all training data\n",
    "# log_reg = LogisticRegression(max_iter=1000)\n",
    "# log_reg.fit(X, y)\n",
    "\n",
    "gapn_data['NAD_pred'] = gapn_pred\n",
    "gapn_data.plot.scatter(x=\"NAD+_initial_rate\", y=\"NADP+_initial_rate\", c=\"NAD_pred\", cmap=\"viridis\")"
   ]
  },
  {
   "cell_type": "code",
   "execution_count": 5,
   "id": "reverse-apollo",
   "metadata": {},
   "outputs": [],
   "source": [
    "from esm import Alphabet, FastaBatchedDataset, ProteinBertModel, pretrained"
   ]
  },
  {
   "cell_type": "code",
   "execution_count": 6,
   "id": "recorded-little",
   "metadata": {},
   "outputs": [
    {
     "data": {
      "application/vnd.jupyter.widget-view+json": {
       "model_id": "",
       "version_major": 2,
       "version_minor": 0
      },
      "text/plain": [
       "0it [00:00, ?it/s]"
      ]
     },
     "metadata": {},
     "output_type": "display_data"
    },
    {
     "ename": "ValueError",
     "evalue": "Sequence length 1088 above maximum  sequence length of 1024",
     "output_type": "error",
     "traceback": [
      "\u001b[0;31m---------------------------------------------------------------------------\u001b[0m",
      "\u001b[0;31mValueError\u001b[0m                                Traceback (most recent call last)",
      "\u001b[0;32m<ipython-input-6-f13f8be80f76>\u001b[0m in \u001b[0;36m<module>\u001b[0;34m\u001b[0m\n\u001b[1;32m     12\u001b[0m \u001b[0;31m#     if batch_idx % 1000 == 0:\u001b[0m\u001b[0;34m\u001b[0m\u001b[0;34m\u001b[0m\u001b[0;34m\u001b[0m\u001b[0m\n\u001b[1;32m     13\u001b[0m \u001b[0;31m#         print_memory_usage()\u001b[0m\u001b[0;34m\u001b[0m\u001b[0;34m\u001b[0m\u001b[0;34m\u001b[0m\u001b[0m\n\u001b[0;32m---> 14\u001b[0;31m     \u001b[0mresult\u001b[0m \u001b[0;34m=\u001b[0m \u001b[0mmodel\u001b[0m\u001b[0;34m(\u001b[0m\u001b[0mtoks\u001b[0m\u001b[0;34m.\u001b[0m\u001b[0mto\u001b[0m\u001b[0;34m(\u001b[0m\u001b[0mdevice\u001b[0m\u001b[0;34m=\u001b[0m\u001b[0;34m\"cuda\"\u001b[0m\u001b[0;34m,\u001b[0m \u001b[0mnon_blocking\u001b[0m\u001b[0;34m=\u001b[0m\u001b[0;32mTrue\u001b[0m\u001b[0;34m)\u001b[0m\u001b[0;34m,\u001b[0m \u001b[0mrepr_layers\u001b[0m\u001b[0;34m=\u001b[0m\u001b[0;34m[\u001b[0m\u001b[0mrepr_layer\u001b[0m\u001b[0;34m]\u001b[0m\u001b[0;34m)\u001b[0m\u001b[0;34m\u001b[0m\u001b[0;34m\u001b[0m\u001b[0m\n\u001b[0m\u001b[1;32m     15\u001b[0m     \u001b[0mout\u001b[0m \u001b[0;34m=\u001b[0m \u001b[0mresult\u001b[0m\u001b[0;34m[\u001b[0m\u001b[0;34m'representations'\u001b[0m\u001b[0;34m]\u001b[0m\u001b[0;34m[\u001b[0m\u001b[0mrepr_layer\u001b[0m\u001b[0;34m]\u001b[0m\u001b[0;34m.\u001b[0m\u001b[0mdetach\u001b[0m\u001b[0;34m(\u001b[0m\u001b[0;34m)\u001b[0m\u001b[0;34m.\u001b[0m\u001b[0mcpu\u001b[0m\u001b[0;34m(\u001b[0m\u001b[0;34m)\u001b[0m\u001b[0;34m.\u001b[0m\u001b[0mnumpy\u001b[0m\u001b[0;34m(\u001b[0m\u001b[0;34m)\u001b[0m\u001b[0;34m\u001b[0m\u001b[0;34m\u001b[0m\u001b[0m\n\u001b[1;32m     16\u001b[0m     \u001b[0;32mfor\u001b[0m \u001b[0mi\u001b[0m\u001b[0;34m,\u001b[0m \u001b[0mlabel\u001b[0m \u001b[0;32min\u001b[0m \u001b[0menumerate\u001b[0m\u001b[0;34m(\u001b[0m\u001b[0mlabels\u001b[0m\u001b[0;34m)\u001b[0m\u001b[0;34m:\u001b[0m\u001b[0;34m\u001b[0m\u001b[0;34m\u001b[0m\u001b[0m\n",
      "\u001b[0;32m~/.local/lib/python3.7/site-packages/torch/nn/modules/module.py\u001b[0m in \u001b[0;36m_call_impl\u001b[0;34m(self, *input, **kwargs)\u001b[0m\n\u001b[1;32m   1100\u001b[0m         if not (self._backward_hooks or self._forward_hooks or self._forward_pre_hooks or _global_backward_hooks\n\u001b[1;32m   1101\u001b[0m                 or _global_forward_hooks or _global_forward_pre_hooks):\n\u001b[0;32m-> 1102\u001b[0;31m             \u001b[0;32mreturn\u001b[0m \u001b[0mforward_call\u001b[0m\u001b[0;34m(\u001b[0m\u001b[0;34m*\u001b[0m\u001b[0minput\u001b[0m\u001b[0;34m,\u001b[0m \u001b[0;34m**\u001b[0m\u001b[0mkwargs\u001b[0m\u001b[0;34m)\u001b[0m\u001b[0;34m\u001b[0m\u001b[0;34m\u001b[0m\u001b[0m\n\u001b[0m\u001b[1;32m   1103\u001b[0m         \u001b[0;31m# Do not call functions when jit is used\u001b[0m\u001b[0;34m\u001b[0m\u001b[0;34m\u001b[0m\u001b[0;34m\u001b[0m\u001b[0m\n\u001b[1;32m   1104\u001b[0m         \u001b[0mfull_backward_hooks\u001b[0m\u001b[0;34m,\u001b[0m \u001b[0mnon_full_backward_hooks\u001b[0m \u001b[0;34m=\u001b[0m \u001b[0;34m[\u001b[0m\u001b[0;34m]\u001b[0m\u001b[0;34m,\u001b[0m \u001b[0;34m[\u001b[0m\u001b[0;34m]\u001b[0m\u001b[0;34m\u001b[0m\u001b[0;34m\u001b[0m\u001b[0m\n",
      "\u001b[0;32m/scratch/jlaw/torch/facebookresearch_esm_main/esm/model.py\u001b[0m in \u001b[0;36mforward\u001b[0;34m(self, tokens, repr_layers, need_head_weights, return_contacts)\u001b[0m\n\u001b[1;32m    134\u001b[0m             \u001b[0mx\u001b[0m \u001b[0;34m=\u001b[0m \u001b[0mx\u001b[0m \u001b[0;34m*\u001b[0m \u001b[0;34m(\u001b[0m\u001b[0;36m1\u001b[0m \u001b[0;34m-\u001b[0m \u001b[0mmask_ratio_train\u001b[0m\u001b[0;34m)\u001b[0m \u001b[0;34m/\u001b[0m \u001b[0;34m(\u001b[0m\u001b[0;36m1\u001b[0m \u001b[0;34m-\u001b[0m \u001b[0mmask_ratio_observed\u001b[0m\u001b[0;34m)\u001b[0m\u001b[0;34m[\u001b[0m\u001b[0;34m:\u001b[0m\u001b[0;34m,\u001b[0m \u001b[0;32mNone\u001b[0m\u001b[0;34m,\u001b[0m \u001b[0;32mNone\u001b[0m\u001b[0;34m]\u001b[0m\u001b[0;34m\u001b[0m\u001b[0;34m\u001b[0m\u001b[0m\n\u001b[1;32m    135\u001b[0m \u001b[0;34m\u001b[0m\u001b[0m\n\u001b[0;32m--> 136\u001b[0;31m         \u001b[0mx\u001b[0m \u001b[0;34m=\u001b[0m \u001b[0mx\u001b[0m \u001b[0;34m+\u001b[0m \u001b[0mself\u001b[0m\u001b[0;34m.\u001b[0m\u001b[0membed_positions\u001b[0m\u001b[0;34m(\u001b[0m\u001b[0mtokens\u001b[0m\u001b[0;34m)\u001b[0m\u001b[0;34m\u001b[0m\u001b[0;34m\u001b[0m\u001b[0m\n\u001b[0m\u001b[1;32m    137\u001b[0m \u001b[0;34m\u001b[0m\u001b[0m\n\u001b[1;32m    138\u001b[0m         \u001b[0;32mif\u001b[0m \u001b[0mself\u001b[0m\u001b[0;34m.\u001b[0m\u001b[0mmodel_version\u001b[0m \u001b[0;34m==\u001b[0m \u001b[0;34m\"ESM-1b\"\u001b[0m\u001b[0;34m:\u001b[0m\u001b[0;34m\u001b[0m\u001b[0;34m\u001b[0m\u001b[0m\n",
      "\u001b[0;32m~/.local/lib/python3.7/site-packages/torch/nn/modules/module.py\u001b[0m in \u001b[0;36m_call_impl\u001b[0;34m(self, *input, **kwargs)\u001b[0m\n\u001b[1;32m   1100\u001b[0m         if not (self._backward_hooks or self._forward_hooks or self._forward_pre_hooks or _global_backward_hooks\n\u001b[1;32m   1101\u001b[0m                 or _global_forward_hooks or _global_forward_pre_hooks):\n\u001b[0;32m-> 1102\u001b[0;31m             \u001b[0;32mreturn\u001b[0m \u001b[0mforward_call\u001b[0m\u001b[0;34m(\u001b[0m\u001b[0;34m*\u001b[0m\u001b[0minput\u001b[0m\u001b[0;34m,\u001b[0m \u001b[0;34m**\u001b[0m\u001b[0mkwargs\u001b[0m\u001b[0;34m)\u001b[0m\u001b[0;34m\u001b[0m\u001b[0;34m\u001b[0m\u001b[0m\n\u001b[0m\u001b[1;32m   1103\u001b[0m         \u001b[0;31m# Do not call functions when jit is used\u001b[0m\u001b[0;34m\u001b[0m\u001b[0;34m\u001b[0m\u001b[0;34m\u001b[0m\u001b[0m\n\u001b[1;32m   1104\u001b[0m         \u001b[0mfull_backward_hooks\u001b[0m\u001b[0;34m,\u001b[0m \u001b[0mnon_full_backward_hooks\u001b[0m \u001b[0;34m=\u001b[0m \u001b[0;34m[\u001b[0m\u001b[0;34m]\u001b[0m\u001b[0;34m,\u001b[0m \u001b[0;34m[\u001b[0m\u001b[0;34m]\u001b[0m\u001b[0;34m\u001b[0m\u001b[0;34m\u001b[0m\u001b[0m\n",
      "\u001b[0;32m/scratch/jlaw/torch/facebookresearch_esm_main/esm/modules.py\u001b[0m in \u001b[0;36mforward\u001b[0;34m(self, input)\u001b[0m\n\u001b[1;32m    240\u001b[0m         \u001b[0;32mif\u001b[0m \u001b[0minput\u001b[0m\u001b[0;34m.\u001b[0m\u001b[0msize\u001b[0m\u001b[0;34m(\u001b[0m\u001b[0;36m1\u001b[0m\u001b[0;34m)\u001b[0m \u001b[0;34m>\u001b[0m \u001b[0mself\u001b[0m\u001b[0;34m.\u001b[0m\u001b[0mmax_positions\u001b[0m\u001b[0;34m:\u001b[0m\u001b[0;34m\u001b[0m\u001b[0;34m\u001b[0m\u001b[0m\n\u001b[1;32m    241\u001b[0m             raise ValueError(\n\u001b[0;32m--> 242\u001b[0;31m                 \u001b[0;34mf\"Sequence length {input.size(1)} above maximum \"\u001b[0m\u001b[0;34m\u001b[0m\u001b[0;34m\u001b[0m\u001b[0m\n\u001b[0m\u001b[1;32m    243\u001b[0m                 \u001b[0;34mf\" sequence length of {self.max_positions}\"\u001b[0m\u001b[0;34m\u001b[0m\u001b[0;34m\u001b[0m\u001b[0m\n\u001b[1;32m    244\u001b[0m             )\n",
      "\u001b[0;31mValueError\u001b[0m: Sequence length 1088 above maximum  sequence length of 1024"
     ]
    }
   ],
   "source": [
    "# default batch size from esm: 4096\n",
    "toks_per_batch = 16\n",
    "dataset = FastaBatchedDataset.from_file(nad_file)\n",
    "batches = dataset.get_batch_indices(toks_per_batch, extra_toks_per_seq=1)\n",
    "data_loader = torch.utils.data.DataLoader(\n",
    "    dataset, collate_fn=alphabet.get_batch_converter(), batch_sampler=batches\n",
    ")\n",
    "\n",
    "representations = {}\n",
    "for batch_idx, (labels, strs, toks) in tqdm(enumerate(data_loader)):\n",
    "#     # see how much memory is being used\n",
    "#     if batch_idx % 1000 == 0:\n",
    "#         print_memory_usage()\n",
    "    result = model(toks.to(device=\"cuda\", non_blocking=True), repr_layers=[repr_layer])\n",
    "    out = result['representations'][repr_layer].detach().cpu().numpy()\n",
    "    for i, label in enumerate(labels):\n",
    "        # Generate per-sequence representations via averaging\n",
    "        # NOTE: token 0 is always a beginning-of-sequence token, so the first residue is token 1.\n",
    "        representations[label] = out[i, 1 : len(strs[i]) + 1].mean(0)"
   ]
  }
 ],
 "metadata": {
  "kernelspec": {
   "display_name": "Python 3",
   "language": "python",
   "name": "python3"
  },
  "language_info": {
   "codemirror_mode": {
    "name": "ipython",
    "version": 3
   },
   "file_extension": ".py",
   "mimetype": "text/x-python",
   "name": "python",
   "nbconvert_exporter": "python",
   "pygments_lexer": "ipython3",
   "version": "3.7.9"
  }
 },
 "nbformat": 4,
 "nbformat_minor": 5
}
