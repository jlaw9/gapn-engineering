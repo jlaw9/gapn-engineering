{
 "cells": [
  {
   "cell_type": "markdown",
   "id": "95a2a0ba-6d21-4384-9516-3dbe37d11cd2",
   "metadata": {
    "tags": []
   },
   "source": [
    "### Imports"
   ]
  },
  {
   "cell_type": "code",
   "execution_count": 454,
   "id": "766b2e99-12d3-4c85-bb67-3234fbaad062",
   "metadata": {},
   "outputs": [],
   "source": [
    "# !pip install --user seaborn"
   ]
  },
  {
   "cell_type": "code",
   "execution_count": 455,
   "id": "a0bf0ce4-8986-4242-8569-fadb9ae2d470",
   "metadata": {},
   "outputs": [],
   "source": [
    "import numpy as np\n",
    "import pandas as pd\n",
    "\n",
    "import matplotlib.pyplot as plt\n",
    "import seaborn as sns\n",
    "\n",
    "%matplotlib inline"
   ]
  },
  {
   "cell_type": "code",
   "execution_count": 456,
   "id": "1699df7f-47e9-4b19-b284-c36c495f3def",
   "metadata": {},
   "outputs": [
    {
     "data": {
      "text/plain": [
       "True"
      ]
     },
     "execution_count": 456,
     "metadata": {},
     "output_type": "execute_result"
    }
   ],
   "source": [
    "import torch\n",
    "torch.cuda.is_available()"
   ]
  },
  {
   "cell_type": "markdown",
   "id": "a4d5c496-d19e-4206-b40a-7af58049edb9",
   "metadata": {
    "tags": []
   },
   "source": [
    "### Load data"
   ]
  },
  {
   "cell_type": "code",
   "execution_count": 457,
   "id": "edca2c59-cd6f-424a-a736-856b81c90f77",
   "metadata": {
    "tags": []
   },
   "outputs": [],
   "source": [
    "new_gapn_data_file = \"20211018-GapN-data-up-to-SM160.csv\"\n",
    "data = pd.read_csv(new_gapn_data_file, index_col=0)\n",
    "# data = data.dropna()\n",
    "# drop the barcode of the sequences: MGSSHHHHHHSSGLVPRGSH\n",
    "data['Sequence'] = data['Sequence'].apply(lambda x: x.replace('MGSSHHHHHHSSGLVPRGSH', '').strip('*'))\n",
    "data.index = data.index.str.strip('p')"
   ]
  },
  {
   "cell_type": "markdown",
   "id": "a2a95878-cbe4-4ffd-b595-38db3b1cb1db",
   "metadata": {
    "tags": []
   },
   "source": [
    "#### Make sure sequences match mutation annotation "
   ]
  },
  {
   "cell_type": "code",
   "execution_count": 458,
   "id": "fe21805b-4978-4c0f-b8f0-b6b1ad8124a8",
   "metadata": {},
   "outputs": [
    {
     "data": {
      "text/html": [
       "<div>\n",
       "<style scoped>\n",
       "    .dataframe tbody tr th:only-of-type {\n",
       "        vertical-align: middle;\n",
       "    }\n",
       "\n",
       "    .dataframe tbody tr th {\n",
       "        vertical-align: top;\n",
       "    }\n",
       "\n",
       "    .dataframe thead th {\n",
       "        text-align: right;\n",
       "    }\n",
       "</style>\n",
       "<table border=\"1\" class=\"dataframe\">\n",
       "  <thead>\n",
       "    <tr style=\"text-align: right;\">\n",
       "      <th></th>\n",
       "      <th>mutation_from_seq</th>\n",
       "      <th>mutation_from_annot</th>\n",
       "    </tr>\n",
       "  </thead>\n",
       "  <tbody>\n",
       "    <tr>\n",
       "      <th>WT</th>\n",
       "      <td>{}</td>\n",
       "      <td>{}</td>\n",
       "    </tr>\n",
       "  </tbody>\n",
       "</table>\n",
       "</div>"
      ],
      "text/plain": [
       "   mutation_from_seq mutation_from_annot\n",
       "WT                {}                  {}"
      ]
     },
     "execution_count": 458,
     "metadata": {},
     "output_type": "execute_result"
    }
   ],
   "source": [
    "seq_list = data.Sequence.apply(list).apply(np.asarray)\n",
    "mutations = seq_list.apply(lambda x: [f\"{seq_list[0][i]}{i}{x[i]}\" for i in np.where(seq_list[0] != x)[0]])\n",
    "data['mutation_from_seq'] = mutations.apply(set)\n",
    "data['mutation_from_annot'] = data.WT_mutations.fillna('').str.split(' \\+ ')\\\n",
    "    .apply(lambda x: [xi.strip().rstrip() for xi in x]).apply(set)\n",
    "\n",
    "data[data.mutation_from_seq != data.mutation_from_annot].iloc[:, -2:]"
   ]
  },
  {
   "cell_type": "markdown",
   "id": "e7c5f978-aa6c-4013-af1d-9f6b7c6d3a32",
   "metadata": {},
   "source": [
    "### Calculate Embeddings"
   ]
  },
  {
   "cell_type": "code",
   "execution_count": 459,
   "id": "bfdebd10-75ca-415a-aad3-bec7b797325f",
   "metadata": {},
   "outputs": [],
   "source": [
    "import sys\n",
    "sys.path.append('~/Packages/esm')\n",
    "\n",
    "import esm"
   ]
  },
  {
   "cell_type": "markdown",
   "id": "8e87a32c-7963-4481-a3ab-d28430840c5c",
   "metadata": {
    "tags": []
   },
   "source": [
    "#### Load model"
   ]
  },
  {
   "cell_type": "code",
   "execution_count": null,
   "id": "9ea8c590-a45b-4d85-bcf8-3480aec5e989",
   "metadata": {},
   "outputs": [],
   "source": []
  },
  {
   "cell_type": "code",
   "execution_count": 460,
   "id": "6f133218-e017-48cf-9546-3254cad3c3b2",
   "metadata": {},
   "outputs": [
    {
     "name": "stderr",
     "output_type": "stream",
     "text": [
      "Using cache found in /tmp/.cache/torch/facebookresearch_esm_main\n",
      "/tmp/.cache/torch/facebookresearch_esm_main/esm/pretrained.py:148: UserWarning: Regression weights not found, predicting contacts will not produce correct results.\n",
      "  warnings.warn(\n"
     ]
    }
   ],
   "source": [
    "torch.hub.set_dir('/tmp/.cache/torch')\n",
    "model, alphabet = torch.hub.load(\"facebookresearch/esm:main\", \"esm1v_t33_650M_UR90S_1\")"
   ]
  },
  {
   "cell_type": "code",
   "execution_count": 461,
   "id": "a8d3ec5e-a49e-433f-a181-778319adbdd4",
   "metadata": {},
   "outputs": [
    {
     "data": {
      "text/html": [
       "<div>\n",
       "<style scoped>\n",
       "    .dataframe tbody tr th:only-of-type {\n",
       "        vertical-align: middle;\n",
       "    }\n",
       "\n",
       "    .dataframe tbody tr th {\n",
       "        vertical-align: top;\n",
       "    }\n",
       "\n",
       "    .dataframe thead th {\n",
       "        text-align: right;\n",
       "    }\n",
       "</style>\n",
       "<table border=\"1\" class=\"dataframe\">\n",
       "  <thead>\n",
       "    <tr style=\"text-align: right;\">\n",
       "      <th></th>\n",
       "      <th>Sequence</th>\n",
       "      <th>WT_mutations</th>\n",
       "      <th>NAD+_initial_rate</th>\n",
       "      <th>NADP+_initial_rate</th>\n",
       "      <th>mutation_from_seq</th>\n",
       "      <th>mutation_from_annot</th>\n",
       "    </tr>\n",
       "  </thead>\n",
       "  <tbody>\n",
       "    <tr>\n",
       "      <th>WT</th>\n",
       "      <td>MTKQYKNYVNGEWKLSENEIKIYEPASGAELGSVPAMSTEEVDYVY...</td>\n",
       "      <td>NaN</td>\n",
       "      <td>0.17667</td>\n",
       "      <td>41.342222</td>\n",
       "      <td>{}</td>\n",
       "      <td>{}</td>\n",
       "    </tr>\n",
       "    <tr>\n",
       "      <th>SM038</th>\n",
       "      <td>MTKQYKNYVNGEWKLSENEIKIYEPASGAELGSVPAMSTEEVDYVY...</td>\n",
       "      <td>G209V</td>\n",
       "      <td>0.80667</td>\n",
       "      <td>39.055556</td>\n",
       "      <td>{G209V}</td>\n",
       "      <td>{G209V}</td>\n",
       "    </tr>\n",
       "    <tr>\n",
       "      <th>SM050</th>\n",
       "      <td>MTKQYKNYVNGEWKLSENEIKIYEPASGAELGSVPAMSTEEVDYVY...</td>\n",
       "      <td>K176F + S210E</td>\n",
       "      <td>-0.00333</td>\n",
       "      <td>1.566667</td>\n",
       "      <td>{S210E, K176F}</td>\n",
       "      <td>{S210E, K176F}</td>\n",
       "    </tr>\n",
       "    <tr>\n",
       "      <th>SM051</th>\n",
       "      <td>MTKQYKNYVNGEWKLSENEIKIYEPASGAELGSVPAMSTEEVDYVY...</td>\n",
       "      <td>K176F + T179E</td>\n",
       "      <td>0.02000</td>\n",
       "      <td>0.113333</td>\n",
       "      <td>{T179E, K176F}</td>\n",
       "      <td>{T179E, K176F}</td>\n",
       "    </tr>\n",
       "    <tr>\n",
       "      <th>SM052</th>\n",
       "      <td>MTKQYKNYVNGEWKLSENEIKIYEPASGAELGSVPAMSTEEVDYVY...</td>\n",
       "      <td>T179F + G209E + S210E</td>\n",
       "      <td>0.01333</td>\n",
       "      <td>0.006667</td>\n",
       "      <td>{T179F, G209E, S210E}</td>\n",
       "      <td>{T179F, G209E, S210E}</td>\n",
       "    </tr>\n",
       "  </tbody>\n",
       "</table>\n",
       "</div>"
      ],
      "text/plain": [
       "                                                Sequence  \\\n",
       "WT     MTKQYKNYVNGEWKLSENEIKIYEPASGAELGSVPAMSTEEVDYVY...   \n",
       "SM038  MTKQYKNYVNGEWKLSENEIKIYEPASGAELGSVPAMSTEEVDYVY...   \n",
       "SM050  MTKQYKNYVNGEWKLSENEIKIYEPASGAELGSVPAMSTEEVDYVY...   \n",
       "SM051  MTKQYKNYVNGEWKLSENEIKIYEPASGAELGSVPAMSTEEVDYVY...   \n",
       "SM052  MTKQYKNYVNGEWKLSENEIKIYEPASGAELGSVPAMSTEEVDYVY...   \n",
       "\n",
       "                WT_mutations  NAD+_initial_rate  NADP+_initial_rate  \\\n",
       "WT                       NaN            0.17667           41.342222   \n",
       "SM038                  G209V            0.80667           39.055556   \n",
       "SM050          K176F + S210E           -0.00333            1.566667   \n",
       "SM051          K176F + T179E            0.02000            0.113333   \n",
       "SM052  T179F + G209E + S210E            0.01333            0.006667   \n",
       "\n",
       "           mutation_from_seq    mutation_from_annot  \n",
       "WT                        {}                     {}  \n",
       "SM038                {G209V}                {G209V}  \n",
       "SM050         {S210E, K176F}         {S210E, K176F}  \n",
       "SM051         {T179E, K176F}         {T179E, K176F}  \n",
       "SM052  {T179F, G209E, S210E}  {T179F, G209E, S210E}  "
      ]
     },
     "execution_count": 461,
     "metadata": {},
     "output_type": "execute_result"
    }
   ],
   "source": [
    "data.head()"
   ]
  },
  {
   "cell_type": "code",
   "execution_count": 462,
   "id": "294cd72f-4dcf-4f72-bc5d-c7785b8c6add",
   "metadata": {},
   "outputs": [],
   "source": [
    "batch_converter = alphabet.get_batch_converter()\n",
    "batch_labels, batch_strs, batch_tokens = batch_converter(list(data['Sequence'].items()))\n",
    "batch_dataloader = torch.utils.data.DataLoader(batch_tokens, batch_size=8)"
   ]
  },
  {
   "cell_type": "markdown",
   "id": "81df903e-da61-4a48-bc9d-2d2b2db2c9fa",
   "metadata": {
    "tags": []
   },
   "source": [
    "# Extra"
   ]
  },
  {
   "cell_type": "code",
   "execution_count": 463,
   "id": "485c85c3-e520-456e-b84a-3ef661c2ead4",
   "metadata": {},
   "outputs": [],
   "source": [
    "from tqdm.auto import tqdm, trange"
   ]
  },
  {
   "cell_type": "code",
   "execution_count": 464,
   "id": "4170b608-7dec-422b-b812-336947722c36",
   "metadata": {},
   "outputs": [],
   "source": [
    "def calculate_likelihood(i):\n",
    "    \n",
    "    model, alphabet = esm.pretrained.load_model_and_alphabet(f'/projects/deepgreen/pstjohn/esm_models/esm1v_t33_650M_UR90S_{i}.pt')\n",
    "\n",
    "    batch_converter = alphabet.get_batch_converter()\n",
    "    batch_labels, batch_strs, batch_tokens = batch_converter(list(data['Sequence'].items()))\n",
    "    batch_dataloader = torch.utils.data.DataLoader(batch_tokens, batch_size=8)\n",
    "\n",
    "    if torch.cuda.is_available():\n",
    "        model = model.cuda()\n",
    "\n",
    "    output = []\n",
    "    with torch.no_grad():\n",
    "        for batch in tqdm(batch_dataloader, leave=False):\n",
    "            batch_cuda = batch.cuda()\n",
    "            token_probs = torch.log_softmax(model(batch_cuda)['logits'], dim=-1)\n",
    "            gathered_probs = torch.gather(token_probs.cpu(), 2, batch.unsqueeze(-1)).squeeze()\n",
    "            output.append(gathered_probs.cpu().numpy())\n",
    "\n",
    "    output = np.concatenate(output)\n",
    "    \n",
    "    return output"
   ]
  },
  {
   "cell_type": "code",
   "execution_count": 465,
   "id": "f750ad45-8051-49be-a07e-8ade1e69380e",
   "metadata": {},
   "outputs": [
    {
     "data": {
      "application/vnd.jupyter.widget-view+json": {
       "model_id": "d5f589c828cb4234b7b29a498cf64069",
       "version_major": 2,
       "version_minor": 0
      },
      "text/plain": [
       "HBox(children=(FloatProgress(value=0.0, max=5.0), HTML(value='')))"
      ]
     },
     "metadata": {},
     "output_type": "display_data"
    },
    {
     "name": "stderr",
     "output_type": "stream",
     "text": [
      "/tmp/.cache/torch/facebookresearch_esm_main/esm/pretrained.py:148: UserWarning: Regression weights not found, predicting contacts will not produce correct results.\n",
      "  warnings.warn(\n"
     ]
    },
    {
     "data": {
      "application/vnd.jupyter.widget-view+json": {
       "model_id": "",
       "version_major": 2,
       "version_minor": 0
      },
      "text/plain": [
       "HBox(children=(FloatProgress(value=0.0, max=12.0), HTML(value='')))"
      ]
     },
     "metadata": {},
     "output_type": "display_data"
    },
    {
     "data": {
      "application/vnd.jupyter.widget-view+json": {
       "model_id": "",
       "version_major": 2,
       "version_minor": 0
      },
      "text/plain": [
       "HBox(children=(FloatProgress(value=0.0, max=12.0), HTML(value='')))"
      ]
     },
     "metadata": {},
     "output_type": "display_data"
    },
    {
     "data": {
      "application/vnd.jupyter.widget-view+json": {
       "model_id": "",
       "version_major": 2,
       "version_minor": 0
      },
      "text/plain": [
       "HBox(children=(FloatProgress(value=0.0, max=12.0), HTML(value='')))"
      ]
     },
     "metadata": {},
     "output_type": "display_data"
    },
    {
     "data": {
      "application/vnd.jupyter.widget-view+json": {
       "model_id": "",
       "version_major": 2,
       "version_minor": 0
      },
      "text/plain": [
       "HBox(children=(FloatProgress(value=0.0, max=12.0), HTML(value='')))"
      ]
     },
     "metadata": {},
     "output_type": "display_data"
    },
    {
     "data": {
      "application/vnd.jupyter.widget-view+json": {
       "model_id": "",
       "version_major": 2,
       "version_minor": 0
      },
      "text/plain": [
       "HBox(children=(FloatProgress(value=0.0, max=12.0), HTML(value='')))"
      ]
     },
     "metadata": {},
     "output_type": "display_data"
    },
    {
     "name": "stdout",
     "output_type": "stream",
     "text": [
      "\n"
     ]
    }
   ],
   "source": [
    "outputs = np.array([calculate_likelihood(i) for i in trange(1, 6)])"
   ]
  },
  {
   "cell_type": "code",
   "execution_count": 466,
   "id": "29ea8e6e-973b-4bb3-a1f2-206a43344c3e",
   "metadata": {},
   "outputs": [
    {
     "data": {
      "text/plain": [
       "<AxesSubplot:>"
      ]
     },
     "execution_count": 466,
     "metadata": {},
     "output_type": "execute_result"
    },
    {
     "data": {
      "image/png": "[encoded data removed]",
      "text/plain": [
       "<Figure size 432x288 with 2 Axes>"
      ]
     },
     "metadata": {
      "needs_background": "light"
     },
     "output_type": "display_data"
    }
   ],
   "source": [
    "normed_likelihood = (outputs - outputs[:, [0], :])\n",
    "sns.heatmap(normed_likelihood.mean(0))"
   ]
  },
  {
   "cell_type": "code",
   "execution_count": 467,
   "id": "6b3fd0a7-ccb0-4175-a677-741b7ab0b270",
   "metadata": {},
   "outputs": [],
   "source": [
    "data['mutation'] = data.mutation_from_annot.apply(list)\n",
    "data_explode = data.explode('mutation')"
   ]
  },
  {
   "cell_type": "code",
   "execution_count": 468,
   "id": "7ed06870-3838-45a0-bdef-7a347fb761b7",
   "metadata": {},
   "outputs": [],
   "source": [
    "mutation_counts = data_explode.mutation.value_counts().drop('')\n",
    "data_subset = data_explode[data_explode.mutation.isin(mutation_counts[mutation_counts >= 1].index)]"
   ]
  },
  {
   "cell_type": "code",
   "execution_count": 469,
   "id": "cc602b18-4537-4698-bf39-739760852a4f",
   "metadata": {},
   "outputs": [],
   "source": [
    "lh = pd.DataFrame(normed_likelihood.sum(2).mean(0), index=data.index, columns=['value'])\n",
    "lh['mutation'] = data['mutation']\n",
    "lh_explode = lh.explode('mutation')"
   ]
  },
  {
   "cell_type": "code",
   "execution_count": 470,
   "id": "893e6fef-f92f-4203-b195-83bf6e81a897",
   "metadata": {},
   "outputs": [
    {
     "data": {
      "image/png": "[encoded data removed]",
      "text/plain": [
       "<Figure size 720x360 with 3 Axes>"
      ]
     },
     "metadata": {
      "needs_background": "light"
     },
     "output_type": "display_data"
    }
   ],
   "source": [
    "fig, axs = plt.subplots(nrows=3, gridspec_kw={'height_ratios': [1, 2, 2]}, sharex=True, figsize=(10, 5))\n",
    "\n",
    "# x_order = data_subset.groupby('mutation').max().sort_values('NAD+_initial_rate', ascending=False).index\n",
    "x_order = lh_explode.groupby('mutation').value.max().sort_values(ascending=False).drop('').index\n",
    "\n",
    "sns.boxplot(data=data_explode, x='mutation', y='NAD+_initial_rate',\n",
    "            order=x_order, ax=axs[1])\n",
    "\n",
    "sns.boxplot(data=data_explode, x='mutation', y='NADP+_initial_rate',\n",
    "            order=x_order, ax=axs[2])\n",
    "\n",
    "axs[1].set_ylabel('NAD+\\ninitial rate')\n",
    "axs[2].set_ylabel('NADP+\\ninitial rate')\n",
    "\n",
    "axs[0].plot(np.arange(len(x_order)), lh_explode.groupby('mutation').value.max().reindex(x_order).values.squeeze())\n",
    "axs[0].text(0.01, 0.1, 'max log likelihood\\n(relative to WT)', ha='left', va='bottom', transform=axs[0].transAxes)\n",
    "\n",
    "axs[1].set_xlabel(None)\n",
    "\n",
    "_ = axs[-1].set_xticklabels(axs[-1].get_xticklabels(), rotation=90)\n",
    "\n",
    "sns.despine()\n",
    "plt.tight_layout()\n",
    "plt.savefig('esm1v_vs_activity.svg')"
   ]
  },
  {
   "cell_type": "code",
   "execution_count": 471,
   "id": "770fd53a-d7e5-430e-8c92-e2554ea68915",
   "metadata": {},
   "outputs": [],
   "source": [
    "data['log_likelihood'] = normed_likelihood.sum(2).mean(0)"
   ]
  },
  {
   "cell_type": "code",
   "execution_count": 483,
   "id": "dcc3bb2c-4515-41d6-ac95-ebadba06d3b8",
   "metadata": {},
   "outputs": [
    {
     "data": {
      "text/plain": [
       "Text(0, 0.5, 'initial rate')"
      ]
     },
     "execution_count": 483,
     "metadata": {},
     "output_type": "execute_result"
    },
    {
     "data": {
      "image/png": "[encoded data removed]",
      "text/plain": [
       "<Figure size 432x288 with 1 Axes>"
      ]
     },
     "metadata": {
      "needs_background": "light"
     },
     "output_type": "display_data"
    }
   ],
   "source": [
    "plt.plot(-data.log_likelihood, data['NAD+_initial_rate'], '.', label='NAD+')\n",
    "plt.plot(-data.log_likelihood, data['NADP+_initial_rate'], '.', label='NADP+')\n",
    "plt.legend(loc='upper right')\n",
    "plt.xlabel('neg log-likelihood')\n",
    "plt.ylabel('initial rate')"
   ]
  }
 ],
 "metadata": {
  "kernelspec": {
   "display_name": "Python 3",
   "language": "python",
   "name": "python3"
  },
  "language_info": {
   "codemirror_mode": {
    "name": "ipython",
    "version": 3
   },
   "file_extension": ".py",
   "mimetype": "text/x-python",
   "name": "python",
   "nbconvert_exporter": "python",
   "pygments_lexer": "ipython3",
   "version": "3.8.10"
  }
 },
 "nbformat": 4,
 "nbformat_minor": 5
}
