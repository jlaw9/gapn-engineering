{
 "cells": [
  {
   "cell_type": "code",
   "execution_count": 1,
   "id": "prescription-fiber",
   "metadata": {},
   "outputs": [],
   "source": [
    "import re\n",
    "import os\n",
    "import sys\n",
    "from tqdm import tqdm\n",
    "import pandas as pd\n",
    "import numpy as np\n",
    "from scipy.stats import linregress\n",
    "import matplotlib.pyplot as plt\n",
    "import seaborn as sns\n",
    "\n",
    "%matplotlib inline\n",
    "sns.set(context='notebook', style='ticks',\n",
    "        color_codes=True, rc={'legend.frameon': False})"
   ]
  },
  {
   "cell_type": "code",
   "execution_count": 2,
   "id": "advance-brooklyn",
   "metadata": {},
   "outputs": [
    {
     "data": {
      "text/plain": [
       "True"
      ]
     },
     "execution_count": 2,
     "metadata": {},
     "output_type": "execute_result"
    }
   ],
   "source": [
    "import torch\n",
    "torch.cuda.is_available()"
   ]
  },
  {
   "cell_type": "code",
   "execution_count": 3,
   "id": "respected-match",
   "metadata": {},
   "outputs": [
    {
     "data": {
      "text/html": [
       "<div>\n",
       "<style scoped>\n",
       "    .dataframe tbody tr th:only-of-type {\n",
       "        vertical-align: middle;\n",
       "    }\n",
       "\n",
       "    .dataframe tbody tr th {\n",
       "        vertical-align: top;\n",
       "    }\n",
       "\n",
       "    .dataframe thead th {\n",
       "        text-align: right;\n",
       "    }\n",
       "</style>\n",
       "<table border=\"1\" class=\"dataframe\">\n",
       "  <thead>\n",
       "    <tr style=\"text-align: right;\">\n",
       "      <th></th>\n",
       "      <th>Sequence</th>\n",
       "      <th>WT_mutations</th>\n",
       "      <th>NAD+_initial_rate</th>\n",
       "      <th>NADP+_initial_rate</th>\n",
       "    </tr>\n",
       "  </thead>\n",
       "  <tbody>\n",
       "    <tr>\n",
       "      <th>pSM159</th>\n",
       "      <td>MTKQYKNYVNGEWKLSENEIKIYEPASGAELGSVPAMSTEEVDYVY...</td>\n",
       "      <td>P178A + T179Q + G209V + I233T</td>\n",
       "      <td>16.56</td>\n",
       "      <td>21.205556</td>\n",
       "    </tr>\n",
       "    <tr>\n",
       "      <th>pSM160</th>\n",
       "      <td>MTKQYKNYVNGEWKLSENEIKIYEPASGAELGSVPAMSTEEVDYVY...</td>\n",
       "      <td>P178A + T179Q + G209V + I233V</td>\n",
       "      <td>32.06</td>\n",
       "      <td>23.254444</td>\n",
       "    </tr>\n",
       "  </tbody>\n",
       "</table>\n",
       "</div>"
      ],
      "text/plain": [
       "                                                 Sequence  \\\n",
       "pSM159  MTKQYKNYVNGEWKLSENEIKIYEPASGAELGSVPAMSTEEVDYVY...   \n",
       "pSM160  MTKQYKNYVNGEWKLSENEIKIYEPASGAELGSVPAMSTEEVDYVY...   \n",
       "\n",
       "                         WT_mutations  NAD+_initial_rate  NADP+_initial_rate  \n",
       "pSM159  P178A + T179Q + G209V + I233T              16.56           21.205556  \n",
       "pSM160  P178A + T179Q + G209V + I233V              32.06           23.254444  "
      ]
     },
     "execution_count": 3,
     "metadata": {},
     "output_type": "execute_result"
    }
   ],
   "source": [
    "new_gapn_data_file = \"data/20211018-GapN-data-up-to-SM160.csv\"\n",
    "df = pd.read_csv(new_gapn_data_file, index_col=0)\n",
    "# drop the barcode of the sequences: MGSSHHHHHHSSGLVPRGSH\n",
    "df['Sequence'] = df['Sequence'].apply(lambda x: x.replace('MGSSHHHHHHSSGLVPRGSH', '').strip('*'))\n",
    "wt_seq = df.loc['WT']['Sequence']\n",
    "wt_nadp = df.loc['WT']['NADP+_initial_rate']\n",
    "df = df.dropna()\n",
    "df.tail(2)"
   ]
  },
  {
   "cell_type": "code",
   "execution_count": 4,
   "id": "recorded-official",
   "metadata": {},
   "outputs": [
    {
     "data": {
      "text/html": [
       "<div>\n",
       "<style scoped>\n",
       "    .dataframe tbody tr th:only-of-type {\n",
       "        vertical-align: middle;\n",
       "    }\n",
       "\n",
       "    .dataframe tbody tr th {\n",
       "        vertical-align: top;\n",
       "    }\n",
       "\n",
       "    .dataframe thead th {\n",
       "        text-align: right;\n",
       "    }\n",
       "</style>\n",
       "<table border=\"1\" class=\"dataframe\">\n",
       "  <thead>\n",
       "    <tr style=\"text-align: right;\">\n",
       "      <th></th>\n",
       "      <th>Sequence</th>\n",
       "      <th>WT_mutations</th>\n",
       "      <th>NAD+_initial_rate</th>\n",
       "      <th>NADP+_initial_rate</th>\n",
       "    </tr>\n",
       "  </thead>\n",
       "  <tbody>\n",
       "    <tr>\n",
       "      <th>pSM159</th>\n",
       "      <td>MTKQYKNYVNGEWKLSENEIKIYEPASGAELGSVPAMSTEEVDYVY...</td>\n",
       "      <td>P178A + T179Q + G209V + I233T</td>\n",
       "      <td>40.055902</td>\n",
       "      <td>21.205556</td>\n",
       "    </tr>\n",
       "    <tr>\n",
       "      <th>pSM160</th>\n",
       "      <td>MTKQYKNYVNGEWKLSENEIKIYEPASGAELGSVPAMSTEEVDYVY...</td>\n",
       "      <td>P178A + T179Q + G209V + I233V</td>\n",
       "      <td>77.547839</td>\n",
       "      <td>23.254444</td>\n",
       "    </tr>\n",
       "  </tbody>\n",
       "</table>\n",
       "</div>"
      ],
      "text/plain": [
       "                                                 Sequence  \\\n",
       "pSM159  MTKQYKNYVNGEWKLSENEIKIYEPASGAELGSVPAMSTEEVDYVY...   \n",
       "pSM160  MTKQYKNYVNGEWKLSENEIKIYEPASGAELGSVPAMSTEEVDYVY...   \n",
       "\n",
       "                         WT_mutations  NAD+_initial_rate  NADP+_initial_rate  \n",
       "pSM159  P178A + T179Q + G209V + I233T          40.055902           21.205556  \n",
       "pSM160  P178A + T179Q + G209V + I233V          77.547839           23.254444  "
      ]
     },
     "execution_count": 4,
     "metadata": {},
     "output_type": "execute_result"
    }
   ],
   "source": [
    "# convert the nad+ initial rate to % WT activity\n",
    "df['NAD+_initial_rate'] = df['NAD+_initial_rate'] / wt_nadp * 100\n",
    "df.tail(2)"
   ]
  },
  {
   "cell_type": "code",
   "execution_count": 5,
   "id": "increased-playlist",
   "metadata": {},
   "outputs": [
    {
     "data": {
      "text/plain": [
       "pSM038           [G209V]\n",
       "pSM050    [K176F, S210E]\n",
       "Name: WT_mutations, dtype: object"
      ]
     },
     "execution_count": 5,
     "metadata": {},
     "output_type": "execute_result"
    }
   ],
   "source": [
    "# extract the mutations for each sequence\n",
    "seq_mutations = df['WT_mutations'].apply(lambda x: [mut.strip() for mut in x.split(' + ')])\n",
    "seq_mutations.head(2)"
   ]
  },
  {
   "cell_type": "code",
   "execution_count": 6,
   "id": "incorporate-construction",
   "metadata": {},
   "outputs": [],
   "source": [
    "# make sure the mutations match\n",
    "seq_list = df.Sequence.apply(list).apply(np.asarray)\n",
    "wt_seq = np.asarray(list(wt_seq))\n",
    "mutations = seq_list.apply(lambda x: [f\"{wt_seq[i]}{i}{x[i]}\" for i in np.where(wt_seq != x)[0]])\n",
    "df['mutation_from_seq'] = mutations.apply(set)\n",
    "df['mutation_from_annot'] = df.WT_mutations.fillna('').str.split(' \\+ ')\\\n",
    "    .apply(lambda x: [xi.strip().rstrip() for xi in x]).apply(set)"
   ]
  },
  {
   "cell_type": "code",
   "execution_count": 7,
   "id": "packed-record",
   "metadata": {},
   "outputs": [
    {
     "data": {
      "text/html": [
       "<div>\n",
       "<style scoped>\n",
       "    .dataframe tbody tr th:only-of-type {\n",
       "        vertical-align: middle;\n",
       "    }\n",
       "\n",
       "    .dataframe tbody tr th {\n",
       "        vertical-align: top;\n",
       "    }\n",
       "\n",
       "    .dataframe thead th {\n",
       "        text-align: right;\n",
       "    }\n",
       "</style>\n",
       "<table border=\"1\" class=\"dataframe\">\n",
       "  <thead>\n",
       "    <tr style=\"text-align: right;\">\n",
       "      <th></th>\n",
       "      <th>mutation_from_seq</th>\n",
       "      <th>mutation_from_annot</th>\n",
       "    </tr>\n",
       "  </thead>\n",
       "  <tbody>\n",
       "  </tbody>\n",
       "</table>\n",
       "</div>"
      ],
      "text/plain": [
       "Empty DataFrame\n",
       "Columns: [mutation_from_seq, mutation_from_annot]\n",
       "Index: []"
      ]
     },
     "execution_count": 7,
     "metadata": {},
     "output_type": "execute_result"
    }
   ],
   "source": [
    "df[df.mutation_from_seq != df.mutation_from_annot].iloc[:, -2:]"
   ]
  },
  {
   "cell_type": "code",
   "execution_count": 8,
   "id": "crazy-classroom",
   "metadata": {},
   "outputs": [],
   "source": [
    "# load the embeddings\n",
    "# /projects/bpms/jlaw/gapn-engineering/embeddings/20211018_esm1b_t33_650M_UR50S_gapnSM160_residue_embeddings.npz\n",
    "embed_file = 'embeddings/20220210_esm_msa1b_gapnSM160_residue_embeddings.npz'\n",
    "embeddings = np.load(embed_file, allow_pickle=True)['arr_0']\n",
    "wt_embedding = embeddings[0]\n",
    "embeddings = embeddings[1:]"
   ]
  },
  {
   "cell_type": "code",
   "execution_count": 9,
   "id": "printable-server",
   "metadata": {},
   "outputs": [
    {
     "data": {
      "text/plain": [
       "(95, 475, 768)"
      ]
     },
     "execution_count": 9,
     "metadata": {},
     "output_type": "execute_result"
    }
   ],
   "source": [
    "embeddings.shape"
   ]
  },
  {
   "cell_type": "code",
   "execution_count": 25,
   "id": "directed-lecture",
   "metadata": {},
   "outputs": [],
   "source": [
    "out_dir = \"viz/20220210_esm_msa1b\""
   ]
  },
  {
   "cell_type": "code",
   "execution_count": 12,
   "id": "decimal-milwaukee",
   "metadata": {},
   "outputs": [
    {
     "data": {
      "image/png": "[encoded data removed]",
      "text/plain": [
       "<Figure size 432x288 with 1 Axes>"
      ]
     },
     "metadata": {},
     "output_type": "display_data"
    }
   ],
   "source": [
    "# compare the embeddings with the WT embedding\n",
    "relative_embeddings = embeddings - wt_embedding\n",
    "relative_mean_embeddings = relative_embeddings[:, 1:, :].mean(1)\n",
    "# mean_embeddings = embeddings_valid[:, 1:, :].mean(1)\n",
    "\n",
    "_ = plt.plot(np.linalg.norm(relative_embeddings, axis=-1).T, color='k', alpha=.25)\n",
    "for x in list(set.union(*df.mutation_from_seq)):\n",
    "    plt.axvline(int(re.findall('\\d+', x)[0]), color='r', alpha=0.25, zorder=0)\n",
    "\n",
    "plt.xlabel('AA Position')\n",
    "plt.ylabel(r'$| x - x_{wt} |_2$')\n",
    "\n",
    "plt.savefig(f\"out_dir/embeddings_vs_wt.png\", dpi=300)"
   ]
  },
  {
   "cell_type": "code",
   "execution_count": 210,
   "id": "convertible-copying",
   "metadata": {},
   "outputs": [
    {
     "data": {
      "image/png": "[encoded data removed]",
      "text/plain": [
       "<Figure size 432x288 with 1 Axes>"
      ]
     },
     "metadata": {},
     "output_type": "display_data"
    }
   ],
   "source": [
    "# compare the embeddings with the WT embedding\n",
    "relative_embeddings = embeddings - wt_embedding\n",
    "relative_mean_embeddings = relative_embeddings[:, 1:, :].mean(1)\n",
    "# mean_embeddings = embeddings_valid[:, 1:, :].mean(1)\n",
    "\n",
    "_ = plt.plot(np.linalg.norm(relative_embeddings, axis=-1).T, color='k', alpha=.25)\n",
    "for x in list(set.union(*df.mutation_from_seq)):\n",
    "    plt.axvline(int(re.findall('\\d+', x)[0]), color='r', alpha=0.25, zorder=0)\n",
    "\n",
    "plt.xlabel('AA Position')\n",
    "plt.ylabel(r'$| x - x_{wt} |_2$')\n",
    "\n",
    "plt.savefig(\"embeddings_vs_wt.png\", dpi=300)"
   ]
  },
  {
   "cell_type": "code",
   "execution_count": 58,
   "id": "velvet-aberdeen",
   "metadata": {},
   "outputs": [
    {
     "name": "stderr",
     "output_type": "stream",
     "text": [
      "/lustre/eaglefs/projects/deepgreen/jlaw/envs/fairseq/lib/python3.7/site-packages/ipykernel_launcher.py:3: RuntimeWarning: invalid value encountered in log\n",
      "  This is separate from the ipykernel package so we can avoid doing imports until\n"
     ]
    }
   ],
   "source": [
    "# Generate per-sequence representations via averaging\n",
    "representations = [x.mean(0) for x in embeddings]\n",
    "representations = np.vstack(representations)"
   ]
  },
  {
   "cell_type": "code",
   "execution_count": 56,
   "id": "nuclear-contemporary",
   "metadata": {},
   "outputs": [
    {
     "data": {
      "text/plain": [
       "(95, 768)"
      ]
     },
     "execution_count": 56,
     "metadata": {},
     "output_type": "execute_result"
    }
   ],
   "source": [
    "representations.shape"
   ]
  },
  {
   "cell_type": "code",
   "execution_count": null,
   "id": "intense-fitting",
   "metadata": {},
   "outputs": [],
   "source": []
  },
  {
   "cell_type": "code",
   "execution_count": null,
   "id": "backed-geography",
   "metadata": {},
   "outputs": [],
   "source": [
    "!pip install pytorch_lightning"
   ]
  },
  {
   "cell_type": "code",
   "execution_count": 14,
   "id": "positive-azerbaijan",
   "metadata": {},
   "outputs": [],
   "source": [
    "import torch\n",
    "from torch import nn\n",
    "import pytorch_lightning as pl\n",
    "import torchmetrics"
   ]
  },
  {
   "cell_type": "code",
   "execution_count": 43,
   "id": "ideal-recycling",
   "metadata": {},
   "outputs": [],
   "source": [
    "class NeuralNetwork(pl.LightningModule):\n",
    "    def __init__(self, initial_layer_size=1280):\n",
    "        super(NeuralNetwork, self).__init__()\n",
    "        self.linear_relu_stack = nn.Sequential(\n",
    "            nn.Linear(initial_layer_size, 512),\n",
    "            nn.ReLU(),\n",
    "            # nn.Linear(512, 1),            \n",
    "            nn.Linear(512, 512),\n",
    "            nn.ReLU(),\n",
    "            nn.Linear(512, 1),\n",
    "            # nn.ReLU(),\n",
    "        )\n",
    "\n",
    "    def forward(self, x):\n",
    "        logits = self.linear_relu_stack(x)\n",
    "        return logits    \n",
    "\n",
    "    def training_step(self, batch, batch_idx):\n",
    "        x, y = batch\n",
    "        y_pred = self(x)\n",
    "        loss = nn.functional.mse_loss(y_pred, y)\n",
    "        self.log('train_loss', loss)\n",
    "        return loss\n",
    "    \n",
    "    def validation_step(self, batch, batch_idx):\n",
    "        x, y = batch\n",
    "        y_pred = self(x)\n",
    "        loss = nn.functional.mse_loss(y_pred, y)        \n",
    "        self.log(\"val_loss\", loss)\n",
    "        \n",
    "    def configure_optimizers(self):\n",
    "        optimizer = torch.optim.Adam(self.parameters(), lr=1e-3)\n",
    "        return optimizer"
   ]
  },
  {
   "cell_type": "code",
   "execution_count": 44,
   "id": "fresh-stranger",
   "metadata": {},
   "outputs": [],
   "source": [
    "def fit_predict(X_train, y_train, X_valid):\n",
    "    pl.seed_everything(42)\n",
    "    model = NeuralNetwork(initial_layer_size=X_train.shape[1])\n",
    "    \n",
    "    trainer = pl.Trainer(\n",
    "        gpus=-1,\n",
    "        max_steps=400,\n",
    "        log_every_n_steps=4,\n",
    "        progress_bar_refresh_rate=0.)\n",
    "    \n",
    "    train_dataset = torch.utils.data.TensorDataset(torch.Tensor(X_train), torch.Tensor(y_train))\n",
    "    # valid_dataset = torch.utils.data.TensorDataset(torch.Tensor(X_valid), torch.Tensor(y_valid))\n",
    "\n",
    "    train_loader = torch.utils.data.DataLoader(train_dataset, batch_size=16, shuffle=True)\n",
    "    # valid_loader = torch.utils.data.DataLoader(valid_dataset, batch_size=16, shuffle=False)\n",
    "\n",
    "    trainer.fit(model, train_loader)\n",
    "    \n",
    "    return model(torch.Tensor(X_valid)).detach().numpy()"
   ]
  },
  {
   "cell_type": "code",
   "execution_count": 52,
   "id": "initial-boring",
   "metadata": {},
   "outputs": [],
   "source": [
    "import itertools\n",
    "from sklearn.model_selection import KFold\n",
    "from sklearn.linear_model import LogisticRegression, Ridge\n",
    "from sklearn.svm import SVR\n",
    "# Kernel ridge regression (KRR) combines ridge regression (linear least squares with l2-norm regularization) with the kernel trick.\n",
    "# https://scikit-learn.org/stable/modules/generated/sklearn.kernel_ridge.KernelRidge.html\n",
    "# \"The form of the model learned by KRR is identical to support vector regression (SVR). \n",
    "# However, different loss functions are used: \n",
    "# KRR uses squared error loss while support vector regression uses epsilon-insensitive loss, \n",
    "# both combined with l2 regularization. In contrast to SVR, fitting a KRR model can be done in closed-form and is typically faster for medium-sized datasets. On the other hand, the learned model is non-sparse and thus slower than SVR, which learns a sparse model for epsilon > 0, at prediction-time.\n",
    "from sklearn.kernel_ridge import KernelRidge\n",
    "\n",
    "# alg = \"svr\"\n",
    "# alg = 'krr'\n",
    "# kernel = 'laplacian'\n",
    "alg = 'ridge'\n",
    "\n",
    "\n",
    "# model_name = \"esm1b_t33_650M_UR50S\"\n",
    "model_name = \"esm_msa1b_t12_100M_UR50S\"\n",
    "X = representations\n",
    "y = df['NAD+_initial_rate'].astype(float)\n",
    "# take the exponent of the training data and predicted probabilities so nothing is < 0\n",
    "\n",
    "y_train_test = y\n",
    "# normalize_vals = False\n",
    "# wt_nadph = 41.342\n",
    "# log_transform = False\n",
    "# if normalize_vals:\n",
    "#     y_train_test = np.asarray([max(0,x/wt_nadph) for x in y])\n",
    "# if log_transform:\n",
    "#     y_train_test = np.asarray([np.log(max(1,x)) for x in y])"
   ]
  },
  {
   "cell_type": "markdown",
   "id": "packed-choice",
   "metadata": {},
   "source": [
    "## Try time-based evaluation"
   ]
  },
  {
   "cell_type": "code",
   "execution_count": 19,
   "id": "modern-bundle",
   "metadata": {},
   "outputs": [
    {
     "data": {
      "text/html": [
       "<div>\n",
       "<style scoped>\n",
       "    .dataframe tbody tr th:only-of-type {\n",
       "        vertical-align: middle;\n",
       "    }\n",
       "\n",
       "    .dataframe tbody tr th {\n",
       "        vertical-align: top;\n",
       "    }\n",
       "\n",
       "    .dataframe thead th {\n",
       "        text-align: right;\n",
       "    }\n",
       "</style>\n",
       "<table border=\"1\" class=\"dataframe\">\n",
       "  <thead>\n",
       "    <tr style=\"text-align: right;\">\n",
       "      <th></th>\n",
       "      <th>Batch 1</th>\n",
       "      <th>Batch 2</th>\n",
       "      <th>Batch 3</th>\n",
       "      <th>Batch 4</th>\n",
       "      <th>Batch 5</th>\n",
       "      <th>Batch 6</th>\n",
       "      <th>Batch 7</th>\n",
       "      <th>Unnamed: 7</th>\n",
       "    </tr>\n",
       "  </thead>\n",
       "  <tbody>\n",
       "    <tr>\n",
       "      <th>0</th>\n",
       "      <td>pSM038</td>\n",
       "      <td>pSM068</td>\n",
       "      <td>pSM078</td>\n",
       "      <td>pSM113</td>\n",
       "      <td>pSM121</td>\n",
       "      <td>pSM140</td>\n",
       "      <td>pSM214</td>\n",
       "      <td>SmGapN I19F + P178A + T179Q + G209V + I233T</td>\n",
       "    </tr>\n",
       "    <tr>\n",
       "      <th>1</th>\n",
       "      <td>pSM050</td>\n",
       "      <td>pSM069</td>\n",
       "      <td>pSM079</td>\n",
       "      <td>pSM114</td>\n",
       "      <td>pSM122</td>\n",
       "      <td>pSM141</td>\n",
       "      <td>pSM215</td>\n",
       "      <td>SmGapN I19F + P178A + T179Q + G209V + I233V</td>\n",
       "    </tr>\n",
       "  </tbody>\n",
       "</table>\n",
       "</div>"
      ],
      "text/plain": [
       "  Batch 1 Batch 2 Batch 3 Batch 4 Batch 5 Batch 6 Batch 7  \\\n",
       "0  pSM038  pSM068  pSM078  pSM113  pSM121  pSM140  pSM214   \n",
       "1  pSM050  pSM069  pSM079  pSM114  pSM122  pSM141  pSM215   \n",
       "\n",
       "                                    Unnamed: 7  \n",
       "0  SmGapN I19F + P178A + T179Q + G209V + I233T  \n",
       "1  SmGapN I19F + P178A + T179Q + G209V + I233V  "
      ]
     },
     "execution_count": 19,
     "metadata": {},
     "output_type": "execute_result"
    }
   ],
   "source": [
    "gapn_batches_df = pd.read_csv(\"data/gapn-batches.csv\")\n",
    "gapn_batches_df.head(2)"
   ]
  },
  {
   "cell_type": "code",
   "execution_count": 20,
   "id": "fresh-heating",
   "metadata": {},
   "outputs": [
    {
     "name": "stdout",
     "output_type": "stream",
     "text": [
      "15 seqs in batch 1\n",
      "8 seqs in batch 2\n",
      "35 seqs in batch 3\n",
      "6 seqs in batch 4\n",
      "10 seqs in batch 5\n",
      "21 seqs in batch 6\n"
     ]
    }
   ],
   "source": [
    "gapn_batches = {}\n",
    "# batch 7 isn't done yet, so skip for now\n",
    "for batch in range(1,7):\n",
    "    gapn_batches[batch] = gapn_batches_df[f'Batch {batch}'].dropna().values\n",
    "    print(f\"{len(gapn_batches[batch])} seqs in batch {batch}\")\n",
    "# also build the flipped to add to df\n",
    "seq_batch = {s: batch for batch, seqs in gapn_batches.items() for s in seqs}"
   ]
  },
  {
   "cell_type": "code",
   "execution_count": 21,
   "id": "printable-scratch",
   "metadata": {},
   "outputs": [],
   "source": [
    "# another form of validation is if we do a batch-based split i.e., try to predict the activity of the next batch\n",
    "train_test_splits = []\n",
    "size_test = []\n",
    "for i in range(1,6):\n",
    "    train_seqs = []\n",
    "    for j in range(1,i+1):\n",
    "        train_seqs += list(gapn_batches[j])\n",
    "    test_seqs = gapn_batches[i+1]\n",
    "    train_idx = np.arange(len(train_seqs))\n",
    "    test_idx = np.arange(len(test_seqs)) + len(train_seqs)\n",
    "    train_test_splits.append((train_idx, test_idx))"
   ]
  },
  {
   "cell_type": "code",
   "execution_count": 39,
   "id": "soviet-vision",
   "metadata": {},
   "outputs": [],
   "source": [
    "alg = 'nn'\n",
    "X = relative_mean_embeddings\n",
    "y = df['NAD+_initial_rate'].values.reshape(-1, 1)"
   ]
  },
  {
   "cell_type": "code",
   "execution_count": 53,
   "id": "worth-candle",
   "metadata": {},
   "outputs": [
    {
     "name": "stdout",
     "output_type": "stream",
     "text": [
      "model_name\talpha\tavg_slope\tavg_mae\tavg_rmse\n",
      "esm_msa1b_t12_100M_UR50S\t0.0001\tnan\t1358.13\t26.03\n",
      "best_rmse: 26.03, best_alpha: 0.0001\n"
     ]
    }
   ],
   "source": [
    "# this block uses mutation-based splits\n",
    "if alg in ['krr', 'ridge']:\n",
    "#     alphas = [10**x for x in np.arange(-6,5).astype(float)]\n",
    "    alphas = [.0001]\n",
    "else:\n",
    "    alphas = [None]\n",
    "best_alpha = 0\n",
    "best_rmse = 10000\n",
    "best_y_pred = []\n",
    "# print(\"model_name\\talpha\\tgamma\\tavg_slope\\tavg_mae\\tavg_rmse\")\n",
    "print(\"model_name\\talpha\\tavg_slope\\tavg_mae\\tavg_rmse\")\n",
    "# for alpha, gamma in itertools.product(alphas, gammas):\n",
    "for alpha in alphas:\n",
    "    y_preds = []\n",
    "    maes = []\n",
    "    rmses = []\n",
    "    slopes = []\n",
    "\n",
    "    # initialize with numpy nans that shouldn't be included in the plot if they \n",
    "    y_pred = np.empty(len(y))\n",
    "    y_pred[:] = np.nan\n",
    "    for train_idx, test_idx in train_test_splits:\n",
    "    #     print(\"TRAIN:\", train_index, \"TEST:\", test_index)\n",
    "        X_train, X_test = X[train_idx], X[test_idx]\n",
    "        y_train, y_test = y[train_idx], y[test_idx]\n",
    "        if alg == 'krr':\n",
    "            clf = KernelRidge(alpha=alpha, kernel=kernel)\n",
    "            clf.fit(X_train, y_train)\n",
    "            y_pred[test_idx] = clf.predict(X_test)\n",
    "        elif alg == \"ridge\":\n",
    "            clf = Ridge(alpha=alpha)\n",
    "            clf.fit(X_train, y_train)\n",
    "            y_pred[test_idx] = clf.predict(X_test)\n",
    "        elif alg == 'nn':\n",
    "            y_pred[test_idx] = fit_predict(X_train, y_train, X_test).flatten()\n",
    "\n",
    "    y_preds.append(y_pred)\n",
    "    # mean avg error\n",
    "    mae = np.sum(np.abs(y_train_test - y_pred))\n",
    "    # also compute the root mean squared error\n",
    "    rmse = np.sqrt(np.sum((y_train_test - y_pred)**2) / len(y))\n",
    "    maes.append(mae)\n",
    "    rmses.append(rmse)\n",
    "    # and the slope\n",
    "    slope, intercept, r_value, p_value, std_err = linregress(y_train_test, y_pred)\n",
    "    slopes.append(slope)\n",
    "\n",
    "    avg_mae = np.mean(mae)\n",
    "    avg_slope = np.mean(slopes)\n",
    "    avg_rmse = np.mean(rmses)\n",
    "    print(f\"{model_name}\\t{alpha}\\t{avg_slope:0.2f}\\t{avg_mae:0.2f}\\t{avg_rmse:0.2f}\")\n",
    "\n",
    "    if avg_rmse < best_rmse + 0.01:\n",
    "#     if avg_rmse < best_rmse:\n",
    "        best_rmse = avg_rmse\n",
    "#         best_alpha = (alpha, gamma)\n",
    "        best_alpha = alpha\n",
    "        best_y_pred = y_pred\n",
    "y_pred = best_y_pred\n",
    "print(f\"best_rmse: {best_rmse:0.2f}, best_alpha: {str(best_alpha)}\")"
   ]
  },
  {
   "cell_type": "code",
   "execution_count": 240,
   "id": "instructional-klein",
   "metadata": {},
   "outputs": [
    {
     "name": "stdout",
     "output_type": "stream",
     "text": [
      "model_name\talpha\tavg_slope\tavg_mae\tavg_rmse\n",
      "esm1b_t33_650M_UR50S\t1e-06\tnan\t595.88\t11.74\n",
      "esm1b_t33_650M_UR50S\t1e-05\tnan\t596.43\t11.75\n",
      "esm1b_t33_650M_UR50S\t0.0001\tnan\t601.60\t11.83\n",
      "esm1b_t33_650M_UR50S\t0.001\tnan\t634.10\t12.42\n",
      "esm1b_t33_650M_UR50S\t0.01\tnan\t692.63\t13.94\n",
      "esm1b_t33_650M_UR50S\t0.1\tnan\t738.15\t15.30\n",
      "esm1b_t33_650M_UR50S\t1\tnan\t757.54\t15.70\n",
      "esm1b_t33_650M_UR50S\t10\tnan\t754.20\t15.87\n",
      "best_rmse: 11.75, best_alpha: 1e-05\n"
     ]
    }
   ],
   "source": [
    "# this block uses mutation-based splits\n",
    "if alg in ['krr', 'ridge']:\n",
    "    alphas = [1e-6, 1e-5, 0.0001, 0.001, 0.01, 0.1, 1, 10]\n",
    "#     alphas = [.0001]\n",
    "else:\n",
    "    alphas = [None]\n",
    "best_alpha = 0\n",
    "best_rmse = 10000\n",
    "best_y_pred = []\n",
    "# print(\"model_name\\talpha\\tgamma\\tavg_slope\\tavg_mae\\tavg_rmse\")\n",
    "print(\"model_name\\talpha\\tavg_slope\\tavg_mae\\tavg_rmse\")\n",
    "# for alpha, gamma in itertools.product(alphas, gammas):\n",
    "for alpha in alphas:\n",
    "    y_preds = []\n",
    "    maes = []\n",
    "    rmses = []\n",
    "    slopes = []\n",
    "\n",
    "    # initialize with numpy nans that shouldn't be included in the plot if they \n",
    "    y_pred = np.empty(len(y))\n",
    "    y_pred[:] = np.nan\n",
    "    for train_idx, test_idx in train_test_splits:\n",
    "    #     print(\"TRAIN:\", train_index, \"TEST:\", test_index)\n",
    "        X_train, X_test = X[train_idx], X[test_idx]\n",
    "        y_train, y_test = y[train_idx], y[test_idx]\n",
    "        if alg == 'krr':\n",
    "            clf = KernelRidge(alpha=alpha, kernel=kernel)\n",
    "            clf.fit(X_train, y_train)\n",
    "            y_pred[test_idx] = clf.predict(X_test)\n",
    "        elif alg == \"ridge\":\n",
    "            clf = Ridge(alpha=alpha)\n",
    "            clf.fit(X_train, y_train)\n",
    "            y_pred[test_idx] = clf.predict(X_test)\n",
    "        elif alg == 'nn':\n",
    "            y_pred[test_idx] = fit_predict(X_train, y_train, X_test).flatten()\n",
    "\n",
    "    y_preds.append(y_pred)\n",
    "    # mean avg error\n",
    "    mae = np.sum(np.abs(y_train_test - y_pred))\n",
    "    # also compute the root mean squared error\n",
    "    rmse = np.sqrt(np.sum((y_train_test - y_pred)**2) / len(y))\n",
    "    maes.append(mae)\n",
    "    rmses.append(rmse)\n",
    "    # and the slope\n",
    "    slope, intercept, r_value, p_value, std_err = linregress(y_train_test, y_pred)\n",
    "    slopes.append(slope)\n",
    "\n",
    "    avg_mae = np.mean(mae)\n",
    "    avg_slope = np.mean(slopes)\n",
    "    avg_rmse = np.mean(rmses)\n",
    "    print(f\"{model_name}\\t{alpha}\\t{avg_slope:0.2f}\\t{avg_mae:0.2f}\\t{avg_rmse:0.2f}\")\n",
    "\n",
    "    if avg_rmse < best_rmse + 0.01:\n",
    "#     if avg_rmse < best_rmse:\n",
    "        best_rmse = avg_rmse\n",
    "#         best_alpha = (alpha, gamma)\n",
    "        best_alpha = alpha\n",
    "        best_y_pred = y_pred\n",
    "y_pred = best_y_pred\n",
    "print(f\"best_rmse: {best_rmse:0.2f}, best_alpha: {str(best_alpha)}\")"
   ]
  },
  {
   "cell_type": "code",
   "execution_count": 23,
   "id": "silver-ferry",
   "metadata": {},
   "outputs": [],
   "source": [
    "# add the # training examples in parenthesis (e.g., batch 2 has 15 training examples)\n",
    "batch_series = pd.Series({s: f\"{b} ({len([s2 for i in range(1,b) for s2 in gapn_batches[i]])})\" for s, b in seq_batch.items()})"
   ]
  },
  {
   "cell_type": "code",
   "execution_count": 54,
   "id": "extraordinary-catch",
   "metadata": {},
   "outputs": [
    {
     "data": {
      "text/html": [
       "<div>\n",
       "<style scoped>\n",
       "    .dataframe tbody tr th:only-of-type {\n",
       "        vertical-align: middle;\n",
       "    }\n",
       "\n",
       "    .dataframe tbody tr th {\n",
       "        vertical-align: top;\n",
       "    }\n",
       "\n",
       "    .dataframe thead th {\n",
       "        text-align: right;\n",
       "    }\n",
       "</style>\n",
       "<table border=\"1\" class=\"dataframe\">\n",
       "  <thead>\n",
       "    <tr style=\"text-align: right;\">\n",
       "      <th></th>\n",
       "      <th>y</th>\n",
       "      <th>y_pred</th>\n",
       "      <th>Batch (# train)</th>\n",
       "    </tr>\n",
       "  </thead>\n",
       "  <tbody>\n",
       "    <tr>\n",
       "      <th>pSM068</th>\n",
       "      <td>0.040322</td>\n",
       "      <td>-0.308542</td>\n",
       "      <td>2 (15)</td>\n",
       "    </tr>\n",
       "    <tr>\n",
       "      <th>pSM069</th>\n",
       "      <td>0.000000</td>\n",
       "      <td>0.199533</td>\n",
       "      <td>2 (15)</td>\n",
       "    </tr>\n",
       "  </tbody>\n",
       "</table>\n",
       "</div>"
      ],
      "text/plain": [
       "               y    y_pred Batch (# train)\n",
       "pSM068  0.040322 -0.308542          2 (15)\n",
       "pSM069  0.000000  0.199533          2 (15)"
      ]
     },
     "execution_count": 54,
     "metadata": {},
     "output_type": "execute_result"
    }
   ],
   "source": [
    "# if log_transform:\n",
    "#     y_preds = [np.exp(ys) for ys in y_preds]\n",
    "#     df2 = pd.DataFrame({'y': np.exp(y_train_test), 'y_pred': np.mean(y_preds, axis=0)})\n",
    "if alg == 'nn':\n",
    "    y = y.flatten()\n",
    "df2 = pd.DataFrame({'y': y, 'y_pred': y_pred, \n",
    "                    'Batch (# train)': batch_series}\n",
    "                  ).dropna()\n",
    "df2.head(2)"
   ]
  },
  {
   "cell_type": "code",
   "execution_count": 55,
   "id": "effective-perth",
   "metadata": {},
   "outputs": [
    {
     "name": "stdout",
     "output_type": "stream",
     "text": [
      "viz/20220210_esm_msa1b/batch-eval-gapn-nadh-ridge-esm_msa1b_t12_100M_UR50S-a0.0001.svg\n"
     ]
    },
    {
     "data": {
      "image/png": "[encoded data removed]",
      "text/plain": [
       "<Figure size 432x288 with 1 Axes>"
      ]
     },
     "metadata": {},
     "output_type": "display_data"
    }
   ],
   "source": [
    "f, ax = plt.subplots()\n",
    "# color = \"#3291a8\"\n",
    "# df2.plot.scatter(x='y', y=\"y_pred\", color=color, ax=ax)\n",
    "palette = sns.color_palette('Set1')[:df2['Batch (# train)'].nunique()][::-1]\n",
    "markers = ['<','o','x','+','s','*']\n",
    "sns.scatterplot(data=df2, x='y', y='y_pred', \n",
    "                hue='Batch (# train)', style='Batch (# train)',\n",
    "                palette=palette,\n",
    "                s=100,\n",
    "               )\n",
    "# if alg == \"krr\":\n",
    "#     plt.suptitle(f\"GapN NAD+ Kernel Ridge Regression (kernel={kernel}, alpha={best_alpha})\", fontsize=14)\n",
    "# elif alg == \"ridge\":\n",
    "#     plt.suptitle(f\"GapN NAD+ Ridge Regression\", fontsize=14)\n",
    "# elif alg == \"nn\":\n",
    "#     plt.suptitle(f\"GapN NAD+ Neural Network\", fontsize=14)\n",
    "# ax.set_title(f\"Batched Evaluation - ESM model: {model_name}\", fontsize=12)\n",
    "ax.set_title(f\"GapN NAD+ Kernel Ridge Regression - Batched Evaluation\", fontsize=14)\n",
    "\n",
    "ax.set_ylabel(\"Predicted Activity\")\n",
    "ax.set_xlabel(\"Activity (% WT NADP+)\")\n",
    "\n",
    "out_file = f\"{out_dir}/batch-eval-gapn-nadh-{alg}-{model_name}-a{best_alpha}.svg\"\n",
    "print(out_file)\n",
    "os.makedirs(os.path.dirname(out_file), exist_ok=True)\n",
    "plt.savefig(out_file, bbox_inches='tight')\n",
    "plt.savefig(out_file.replace('.svg','.png'), bbox_inches='tight')\n",
    "plt.savefig(out_file.replace('.svg','.pdf'), bbox_inches='tight')"
   ]
  },
  {
   "cell_type": "markdown",
   "id": "magnetic-catering",
   "metadata": {},
   "source": [
    "## Batched evaluation v2\n",
    "Also try to predict the activity of all remaining batches given the data so far\n"
   ]
  },
  {
   "cell_type": "code",
   "execution_count": 202,
   "id": "fewer-deployment",
   "metadata": {},
   "outputs": [],
   "source": [
    "train_test_splits = []\n",
    "size_test = []\n",
    "for i in range(2,6):\n",
    "    train_seqs = []\n",
    "    test_seqs = []\n",
    "    for j in range(1,i+1):\n",
    "        train_seqs += list(gapn_batches[j])\n",
    "    for j in range(i+1,7):\n",
    "        test_seqs += list(gapn_batches[j])\n",
    "    train_idx = np.arange(len(train_seqs))\n",
    "    test_idx = np.arange(len(test_seqs)) + len(train_seqs)\n",
    "    train_test_splits.append((train_idx, test_idx))"
   ]
  },
  {
   "cell_type": "code",
   "execution_count": 203,
   "id": "alternative-bleeding",
   "metadata": {},
   "outputs": [
    {
     "name": "stdout",
     "output_type": "stream",
     "text": [
      "0 307.1536639841778 6.947453428938837\n",
      "1 150.5132053812023 4.021284109749486\n",
      "2 140.84800972679201 3.977351077224028\n",
      "3 82.20865379150227 2.596175438281257\n"
     ]
    }
   ],
   "source": [
    "alpha = 1e-5\n",
    "# initialize with numpy nans that shouldn't be included in the plot if they \n",
    "y_preds = []\n",
    "for i, (train_idx, test_idx) in enumerate(train_test_splits):\n",
    "    y_pred = np.empty(len(y))\n",
    "    y_pred[:] = np.nan\n",
    "    X_train, X_test = X[train_idx], X[test_idx]\n",
    "    y_train, y_test = y[train_idx], y[test_idx]\n",
    "    if alg == 'krr':\n",
    "        clf = KernelRidge(alpha=alpha, kernel=kernel)\n",
    "        clf.fit(X_train, y_train)\n",
    "        y_pred[test_idx] = clf.predict(X_test)\n",
    "    elif alg == \"ridge\":\n",
    "        clf = Ridge(alpha=alpha)\n",
    "        clf.fit(X_train, y_train)\n",
    "        y_pred[test_idx] = clf.predict(X_test)\n",
    "    elif alg == 'nn':\n",
    "        y_pred[test_idx] = fit_predict(X_train, y_train, X_test).flatten()\n",
    "\n",
    "    y_preds.append(y_pred)\n",
    "    # mean avg error\n",
    "    mae = np.sum(np.abs(y_train_test - y_pred))\n",
    "    # also compute the root mean squared error\n",
    "    rmse = np.sqrt(np.sum((y_train_test - y_pred)**2) / len(y))\n",
    "    print(i, mae, rmse)"
   ]
  },
  {
   "cell_type": "code",
   "execution_count": 208,
   "id": "sorted-timber",
   "metadata": {},
   "outputs": [
    {
     "data": {
      "text/html": [
       "<div>\n",
       "<style scoped>\n",
       "    .dataframe tbody tr th:only-of-type {\n",
       "        vertical-align: middle;\n",
       "    }\n",
       "\n",
       "    .dataframe tbody tr th {\n",
       "        vertical-align: top;\n",
       "    }\n",
       "\n",
       "    .dataframe thead th {\n",
       "        text-align: right;\n",
       "    }\n",
       "</style>\n",
       "<table border=\"1\" class=\"dataframe\">\n",
       "  <thead>\n",
       "    <tr style=\"text-align: right;\">\n",
       "      <th></th>\n",
       "      <th>y</th>\n",
       "      <th>y_pred</th>\n",
       "      <th>Batches</th>\n",
       "    </tr>\n",
       "  </thead>\n",
       "  <tbody>\n",
       "    <tr>\n",
       "      <th>pSM078</th>\n",
       "      <td>0.03333</td>\n",
       "      <td>0.385795</td>\n",
       "      <td>3-6</td>\n",
       "    </tr>\n",
       "    <tr>\n",
       "      <th>pSM079</th>\n",
       "      <td>0.11111</td>\n",
       "      <td>0.354720</td>\n",
       "      <td>3-6</td>\n",
       "    </tr>\n",
       "  </tbody>\n",
       "</table>\n",
       "</div>"
      ],
      "text/plain": [
       "              y    y_pred Batches\n",
       "pSM078  0.03333  0.385795     3-6\n",
       "pSM079  0.11111  0.354720     3-6"
      ]
     },
     "execution_count": 208,
     "metadata": {},
     "output_type": "execute_result"
    }
   ],
   "source": [
    "dfs = []\n",
    "labels = [\"3-6\", \"4-6\" ,\"5-6\", \"6\"]\n",
    "for y_pred, label in zip(y_preds, labels):\n",
    "    df2 = pd.DataFrame({'y': y, 'y_pred': y_pred, \n",
    "                        'Batches': label}\n",
    "                      ).dropna()\n",
    "    dfs.append(df2)\n",
    "df2 = pd.concat(dfs)\n",
    "df2.head(2)"
   ]
  },
  {
   "cell_type": "code",
   "execution_count": 209,
   "id": "alike-bundle",
   "metadata": {},
   "outputs": [
    {
     "data": {
      "text/plain": [
       "Text(0.5, 0, 'Activity')"
      ]
     },
     "execution_count": 209,
     "metadata": {},
     "output_type": "execute_result"
    },
    {
     "data": {
      "image/png": "[encoded data removed]",
      "text/plain": [
       "<Figure size 432x288 with 1 Axes>"
      ]
     },
     "metadata": {},
     "output_type": "display_data"
    }
   ],
   "source": [
    "f, ax = plt.subplots()\n",
    "# color = \"#3291a8\"\n",
    "# df2.plot.scatter(x='y', y=\"y_pred\", color=color, ax=ax)\n",
    "palette = sns.color_palette('Set1')[:df2['Batches'].nunique()][::-1]\n",
    "markers = ['<','o','x','+','s','*']\n",
    "sns.scatterplot(data=df2, x='y', y='y_pred', \n",
    "                hue='Batches', style='Batches',\n",
    "                palette=palette,\n",
    "                s=100,\n",
    "               )\n",
    "# if alg == \"krr\":\n",
    "#     plt.suptitle(f\"GapN NAD+ Kernel Ridge Regression (kernel={kernel}, alpha={best_alpha})\", fontsize=14)\n",
    "# elif alg == \"ridge\":\n",
    "#     plt.suptitle(f\"GapN NAD+ Ridge Regression\", fontsize=14)\n",
    "# elif alg == \"nn\":\n",
    "#     plt.suptitle(f\"GapN NAD+ Neural Network\", fontsize=14)\n",
    "# ax.set_title(f\"Batched Evaluation - ESM model: {model_name}\", fontsize=12)\n",
    "ax.set_title(f\"GapN NAD+ Kernel Ridge Regression - Batched Evaluation\", fontsize=14)\n",
    "\n",
    "ax.set_ylabel(\"Predicted Activity\")\n",
    "ax.set_xlabel(\"Activity\")\n",
    "\n",
    "# out_file = f\"viz/20211018/batch-eval-gapn-nadh-{alg}-{model_name}-a{best_alpha}.svg\"\n",
    "# print(out_file)\n",
    "# os.makedirs(os.path.dirname(out_file), exist_ok=True)\n",
    "# plt.savefig(out_file, bbox_inches='tight')\n",
    "# plt.savefig(out_file.replace('.svg','.png'), bbox_inches='tight')\n",
    "# plt.savefig(out_file.replace('.svg','.pdf'), bbox_inches='tight')"
   ]
  }
 ],
 "metadata": {
  "kernelspec": {
   "display_name": "Python 3",
   "language": "python",
   "name": "python3"
  },
  "language_info": {
   "codemirror_mode": {
    "name": "ipython",
    "version": 3
   },
   "file_extension": ".py",
   "mimetype": "text/x-python",
   "name": "python",
   "nbconvert_exporter": "python",
   "pygments_lexer": "ipython3",
   "version": "3.7.9"
  }
 },
 "nbformat": 4,
 "nbformat_minor": 5
}
